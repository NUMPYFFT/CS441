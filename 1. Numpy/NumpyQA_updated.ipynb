{
 "cells": [
  {
   "cell_type": "code",
   "execution_count": 1,
   "metadata": {},
   "outputs": [],
   "source": [
    "%matplotlib inline\n",
    "\n",
    "import matplotlib.pyplot as plt\n",
    "import numpy as np"
   ]
  },
  {
   "cell_type": "markdown",
   "metadata": {},
   "source": [
    "# <span style=\"color:red\">Basic Tasks</span>"
   ]
  },
  {
   "cell_type": "markdown",
   "metadata": {},
   "source": [
    "# Task: floating point operation"
   ]
  },
  {
   "cell_type": "markdown",
   "metadata": {},
   "source": [
    "- Question: The following loop will hang your notebook if you execute it. Why? <font color=red bold=True>**Try to figure out the answer without executing the code.**</font>"
   ]
  },
  {
   "cell_type": "code",
   "execution_count": 2,
   "metadata": {},
   "outputs": [
    {
     "ename": "KeyboardInterrupt",
     "evalue": "",
     "output_type": "error",
     "traceback": [
      "\u001b[0;31m---------------------------------------------------------------------------\u001b[0m",
      "\u001b[0;31mKeyboardInterrupt\u001b[0m                         Traceback (most recent call last)",
      "\u001b[0;32m<ipython-input-2-ddb317a6cc4d>\u001b[0m in \u001b[0;36m<module>\u001b[0;34m\u001b[0m\n\u001b[1;32m      3\u001b[0m \u001b[0mfp\u001b[0m \u001b[0;34m=\u001b[0m \u001b[0;36m0\u001b[0m\u001b[0;34m\u001b[0m\u001b[0;34m\u001b[0m\u001b[0m\n\u001b[1;32m      4\u001b[0m \u001b[0;32mwhile\u001b[0m \u001b[0mfp\u001b[0m \u001b[0;34m!=\u001b[0m \u001b[0;36m1\u001b[0m\u001b[0;34m:\u001b[0m\u001b[0;34m\u001b[0m\u001b[0;34m\u001b[0m\u001b[0m\n\u001b[0;32m----> 5\u001b[0;31m     \u001b[0mfp\u001b[0m \u001b[0;34m=\u001b[0m \u001b[0mfp\u001b[0m \u001b[0;34m+\u001b[0m \u001b[0;36m0.1\u001b[0m\u001b[0;34m\u001b[0m\u001b[0;34m\u001b[0m\u001b[0m\n\u001b[0m",
      "\u001b[0;31mKeyboardInterrupt\u001b[0m: "
     ]
    }
   ],
   "source": [
    "# Try to modify the following code to generate expected behavior.\n",
    "# WARNING: By default, this code will hang your notebook!\n",
    "fp = 0\n",
    "while fp != 1:\n",
    "    fp = fp + 0.1"
   ]
  },
  {
   "cell_type": "markdown",
   "metadata": {},
   "source": [
    "In general, you should not try to check for exact equivalence (==) with floats. Instead, you can measure approximate equivalence.\n",
    "\n",
    "Also, be careful about adding very small increments to a large-magnitude number. If you continuously add a small amount to a large float, you'll notice that the float eventually stops changing at all:"
   ]
  },
  {
   "cell_type": "code",
   "execution_count": 3,
   "metadata": {},
   "outputs": [
    {
     "name": "stdout",
     "output_type": "stream",
     "text": [
      "x is still the same as y\n"
     ]
    }
   ],
   "source": [
    "x = 10.0**200 # 10 to the power of 200\n",
    "y = x + 1\n",
    "if x == y:\n",
    "    print(\"x is still the same as y\")"
   ]
  },
  {
   "cell_type": "markdown",
   "metadata": {},
   "source": [
    "- Question 1: True or False? For all floating point numbers x, y, z, (x + y) + z == x + (y + z)\n",
    "- Question 2: True or False? For all floating point numbers a, b, c, a * (b + c) == a * b + a * c\n",
    "\n",
    "For each case, provide counter-examples if the statement is false."
   ]
  },
  {
   "cell_type": "code",
   "execution_count": 14,
   "metadata": {},
   "outputs": [
    {
     "name": "stdout",
     "output_type": "stream",
     "text": [
      "0.6000000000000001 0.6\n"
     ]
    },
    {
     "data": {
      "text/plain": [
       "False"
      ]
     },
     "execution_count": 14,
     "metadata": {},
     "output_type": "execute_result"
    }
   ],
   "source": [
    "# Question 1\n",
    "# It is false.\n",
    "x = 0.1 # Your answer here.\n",
    "y = 0.2 # Your answer here.\n",
    "z = 0.3 # Your answer here.\n",
    "a=(x+y)+z\n",
    "b=x+(y+z)\n",
    "print(a,b)\n",
    "a==b"
   ]
  },
  {
   "cell_type": "code",
   "execution_count": 20,
   "metadata": {},
   "outputs": [],
   "source": [
    "# Question 1 Sample solution\n",
    "# Here, the small magnitude of 498 relative to 1e100 makes the 498 disappear in x+y:\n",
    "x = 498\n",
    "y = 1e100\n",
    "z = -1e100"
   ]
  },
  {
   "cell_type": "code",
   "execution_count": 21,
   "metadata": {},
   "outputs": [
    {
     "name": "stdout",
     "output_type": "stream",
     "text": [
      "Good counter-example!\n"
     ]
    }
   ],
   "source": [
    "assert (x + y) + z != x + (y + z), \"Incorrect counter-example: LHS equals RHS\"\n",
    "print(\"Good counter-example!\")"
   ]
  },
  {
   "cell_type": "code",
   "execution_count": 22,
   "metadata": {},
   "outputs": [],
   "source": [
    "# Question 2\n",
    "a = None # Your answer here.\n",
    "b = None # Your answer here.\n",
    "c = None # Your answer here."
   ]
  },
  {
   "cell_type": "code",
   "execution_count": 23,
   "metadata": {},
   "outputs": [],
   "source": [
    "# Question 2 Sample solution\n",
    "a = 100\n",
    "b = 0.1\n",
    "c = 0.2"
   ]
  },
  {
   "cell_type": "code",
   "execution_count": 24,
   "metadata": {},
   "outputs": [
    {
     "name": "stdout",
     "output_type": "stream",
     "text": [
      "Good counter-example!\n"
     ]
    }
   ],
   "source": [
    "assert a * (b + c) != a * b + a * c, \"Incorrect counter-example: LHS equals RHS\"\n",
    "print(\"Good counter-example!\")"
   ]
  },
  {
   "cell_type": "markdown",
   "metadata": {},
   "source": [
    "If the last example is confusing, notice that these\n",
    "are not equivalent in Python's floating point representation:"
   ]
  },
  {
   "cell_type": "code",
   "execution_count": 25,
   "metadata": {},
   "outputs": [
    {
     "name": "stdout",
     "output_type": "stream",
     "text": [
      "Floating point numbers are weird.\n"
     ]
    }
   ],
   "source": [
    "if .3 != .1 * 3:\n",
    "    print(\"Floating point numbers are weird.\")"
   ]
  },
  {
   "cell_type": "markdown",
   "metadata": {},
   "source": [
    "For more information about these quirks, please read: https://docs.python.org/3/tutorial/floatingpoint.html"
   ]
  },
  {
   "cell_type": "markdown",
   "metadata": {},
   "source": [
    "# Task: Basic Operations"
   ]
  },
  {
   "cell_type": "markdown",
   "metadata": {},
   "source": [
    "**Description**: Let's say you have two numpy arrays `a` and `b`, who has the same shape of `(d,)`. \n",
    "1. How can we find the element-wise multiplication of `a` and `b`?\n",
    "2. How can we raise each element of `a` to the power of the corresponding element in `b`?\n",
    "3. etc."
   ]
  },
  {
   "cell_type": "code",
   "execution_count": 26,
   "metadata": {},
   "outputs": [],
   "source": [
    "a = np.array([1,2,3])\n",
    "b = np.array([4,5,6])"
   ]
  },
  {
   "cell_type": "markdown",
   "metadata": {},
   "source": [
    "**Solution**: Take a look at the following cell"
   ]
  },
  {
   "cell_type": "code",
   "execution_count": 27,
   "metadata": {},
   "outputs": [],
   "source": [
    "a_mul_b = a * b\n",
    "a_plus_b = a + b\n",
    "a_minus_b = a - b\n",
    "a_div_b = a / b\n",
    "a_pow_b = a ** b"
   ]
  },
  {
   "cell_type": "markdown",
   "metadata": {},
   "source": [
    "In the previous cell:\n",
    "  * `a_mul_b` is the element-wise multiplication of `a` and `b`.\n",
    "  * `a_plus_b` is the element-wise summation of `a` and `b`.\n",
    "  * `a_minus_b` is the element-wise subtraction of `a` and `b`.\n",
    "  * `a_div_b` is the element-wise division of `a` and `b`.\n",
    "  * `a_pow_b` is the element-wise $a_i^{b_i}$ operation."
   ]
  },
  {
   "cell_type": "markdown",
   "metadata": {},
   "source": [
    "# Task: Element-wise Array Functions"
   ]
  },
  {
   "cell_type": "markdown",
   "metadata": {},
   "source": [
    "**Question**: Can you evaluate this equation element-wise for a given array `a`?\n",
    "\n",
    "$$f(a_i) = \\log (\\frac{a_i}{10-a_i}) + \\sin(a_i)$$"
   ]
  },
  {
   "cell_type": "markdown",
   "metadata": {},
   "source": [
    "**Answer**: Take a look at the following cell."
   ]
  },
  {
   "cell_type": "code",
   "execution_count": 28,
   "metadata": {},
   "outputs": [
    {
     "data": {
      "text/plain": [
       "array([-1.35575359, -0.47699693, -0.70617785])"
      ]
     },
     "execution_count": 28,
     "metadata": {},
     "output_type": "execute_result"
    }
   ],
   "source": [
    "a = np.array([1,2,3])\n",
    "f = np.log(a/(10-a)) + np.sin(a)\n",
    "f"
   ]
  },
  {
   "cell_type": "markdown",
   "metadata": {},
   "source": [
    "# Task : left multiply a matrix with a diagonal matrix"
   ]
  },
  {
   "cell_type": "markdown",
   "metadata": {},
   "source": [
    "**description:** assume a numpy array `A` with shape `(n,m)` is given as well as a numpy array `a` with shape `(n,)`. We want to find a matrix `B` such that \n",
    "$$ B = \\left [ \\begin{matrix}\n",
    "a_1 & 0 & \\dots & 0 \\\\\n",
    "0 & a_2 & \\dots & 0 \\\\\n",
    "\\vdots & \\vdots & \\ddots & 0 \\\\\n",
    "0 & 0 & \\dots & a_n \n",
    "\\end{matrix}\n",
    "\\right] \n",
    "\\times A,\n",
    "$$\n",
    "where $a_1, \\dots, a_n$ are the elements in `a`.\n",
    "\n",
    "Write a function `diag_left_mult` which takes the two arrays `a` and `A` as above and returns the matrix `B`.\n",
    "\n",
    "**Note** that `a` is not a diagonal matrix, it is a one dimensional array.\n"
   ]
  },
  {
   "cell_type": "code",
   "execution_count": 38,
   "metadata": {},
   "outputs": [],
   "source": [
    "def diag_left_mult(a, A):\n",
    "    \n",
    "    # your code here\n",
    "    return np.diag(a) @ A"
   ]
  },
  {
   "cell_type": "markdown",
   "metadata": {},
   "source": [
    "## Solution 1"
   ]
  },
  {
   "cell_type": "markdown",
   "metadata": {},
   "source": [
    "Given array `a`, we can use the `np.diag` function to form a diagonal matrix and multiply it by $A$ from the left."
   ]
  },
  {
   "cell_type": "code",
   "execution_count": 40,
   "metadata": {},
   "outputs": [],
   "source": [
    "def diag_left_mult(a,A):\n",
    "    \n",
    "    a_diag = np.diag(a)\n",
    "    \n",
    "    return a_diag @ A"
   ]
  },
  {
   "cell_type": "markdown",
   "metadata": {},
   "source": [
    "**Note** that we have used the `@` operator for matrix multiplication."
   ]
  },
  {
   "cell_type": "code",
   "execution_count": 41,
   "metadata": {},
   "outputs": [
    {
     "data": {
      "text/plain": [
       "array([[1, 2],\n",
       "       [6, 8]])"
      ]
     },
     "execution_count": 41,
     "metadata": {},
     "output_type": "execute_result"
    }
   ],
   "source": [
    "a = np.array([1,2])\n",
    "A = np.array([[1,2],[3,4]])\n",
    "diag_left_mult(a,A)"
   ]
  },
  {
   "cell_type": "markdown",
   "metadata": {},
   "source": [
    "## Solution 2"
   ]
  },
  {
   "cell_type": "markdown",
   "metadata": {},
   "source": [
    "We can use the broadcasting concept! Why do you think the following solution works?\n",
    "\n",
    "Hints:\n",
    "\n",
    "https://numpy.org/doc/stable/user/basics.broadcasting.html\n",
    "\n",
    "https://numpy.org/doc/stable/reference/generated/numpy.reshape.html"
   ]
  },
  {
   "cell_type": "code",
   "execution_count": 42,
   "metadata": {},
   "outputs": [],
   "source": [
    "def diag_left_mult(a,A):\n",
    "    return a.reshape(-1, 1) * A"
   ]
  },
  {
   "cell_type": "code",
   "execution_count": 43,
   "metadata": {},
   "outputs": [
    {
     "data": {
      "text/plain": [
       "array([[1, 2],\n",
       "       [6, 8]])"
      ]
     },
     "execution_count": 43,
     "metadata": {},
     "output_type": "execute_result"
    }
   ],
   "source": [
    "a = np.array([1,2])\n",
    "A = np.array([[1,2],[3,4]])\n",
    "diag_left_mult(a,A)"
   ]
  },
  {
   "cell_type": "markdown",
   "metadata": {},
   "source": [
    "The -1 argument with reshape will act as a wildcard\n",
    "for the appropriate number of missing dimensions.\n",
    "In this case, `a.reshape(-1, 1)` is the same as `a.reshape(2, 1)`."
   ]
  },
  {
   "cell_type": "code",
   "execution_count": 44,
   "metadata": {},
   "outputs": [
    {
     "name": "stdout",
     "output_type": "stream",
     "text": [
      "Shape of a.reshape(2, 1): (2, 1)\n",
      "Shape of a.reshape(-1, 1): (2, 1)\n",
      "Result of a.reshape(-1, 1):\n",
      " [[1]\n",
      " [2]]\n"
     ]
    }
   ],
   "source": [
    "print(\"Shape of a.reshape(2, 1):\", a.reshape(2, 1).shape)\n",
    "print(\"Shape of a.reshape(-1, 1):\", a.reshape(-1, 1).shape)\n",
    "print(\"Result of a.reshape(-1, 1):\\n\", a.reshape(-1, 1))"
   ]
  },
  {
   "cell_type": "markdown",
   "metadata": {},
   "source": [
    "The result of `a.reshape(-1, 1)` is a 2D array that has a single column. When you do `a.reshape(-1, 1) * A`, the broadcasting rules of the `*` operator are matching a row on the left (a single value, in this case) with the same row of `A` on the right, and performing scalar multiplication across the row. Thus, the final result is $$1\\cdot[1,2]$$ for the top row and $$2\\cdot[3,4]$$ for the bottom row.\n",
    "\n",
    "To conclude this part, please observe the similarities and differences between these three results:"
   ]
  },
  {
   "cell_type": "code",
   "execution_count": 45,
   "metadata": {},
   "outputs": [
    {
     "data": {
      "text/plain": [
       "array([[2, 3],\n",
       "       [2, 3]])"
      ]
     },
     "execution_count": 45,
     "metadata": {},
     "output_type": "execute_result"
    }
   ],
   "source": [
    "# This will scale the columns of the right-hand side:\n",
    "np.array([2,3]) * np.array([[1,1],[1,1]])"
   ]
  },
  {
   "cell_type": "code",
   "execution_count": 46,
   "metadata": {},
   "outputs": [
    {
     "data": {
      "text/plain": [
       "array([[2, 3],\n",
       "       [2, 3]])"
      ]
     },
     "execution_count": 46,
     "metadata": {},
     "output_type": "execute_result"
    }
   ],
   "source": [
    "# This will also scale the columns of the right-hand side:\n",
    "np.array([[2,3]]) * np.array([[1,1],[1,1]])"
   ]
  },
  {
   "cell_type": "code",
   "execution_count": 47,
   "metadata": {},
   "outputs": [
    {
     "data": {
      "text/plain": [
       "array([[2, 2],\n",
       "       [3, 3]])"
      ]
     },
     "execution_count": 47,
     "metadata": {},
     "output_type": "execute_result"
    }
   ],
   "source": [
    "# This will scale the rows of the right-hand side:\n",
    "np.array([[2],[3]]) * np.array([[1,1],[1,1]])"
   ]
  },
  {
   "cell_type": "markdown",
   "metadata": {},
   "source": [
    "# Task : Geometric Mean of an array"
   ]
  },
  {
   "cell_type": "markdown",
   "metadata": {},
   "source": [
    "**Description** Assume that you have a numpy array `a` with shape `(d,)`, how can we find the geometric mean of the elements in `a`? Remember that if the elements of `a` are $(a_1, \\dots, a_d)$, the arithmetic mean is $\\sqrt[n]{a_1 \\times \\dots \\times a_d}$.\n",
    "\n",
    "Write a function called `geom_mean` which does this:\n",
    "\n",
    "**input:** a numpy array `a` with shape `(d,)`. Do not assume anything about `d` other than it is a positive integer. Also, do not assume anything about the elements of `a` other than they are postiive values.\n",
    "\n",
    "**output:** a single value, which is the the geometric mean of the elements in `a`."
   ]
  },
  {
   "cell_type": "code",
   "execution_count": 11,
   "metadata": {},
   "outputs": [],
   "source": [
    "def geom_mean(a):\n",
    "    # your code here\n",
    "    size = a.shape[0]\n",
    "    product = 1\n",
    "    for i in range(size):\n",
    "        product = product * a[i]\n",
    "    mean = product ** (1/size)\n",
    "    return mean"
   ]
  },
  {
   "cell_type": "markdown",
   "metadata": {},
   "source": [
    "## First solution"
   ]
  },
  {
   "cell_type": "markdown",
   "metadata": {},
   "source": [
    "We can use the `np.prod` function (see the documentation [here](https://numpy.org/doc/stable/reference/generated/numpy.prod.html)) to compute the product of the elements in `a` and then use the `**(1/d)` operation to take the root."
   ]
  },
  {
   "cell_type": "code",
   "execution_count": 8,
   "metadata": {},
   "outputs": [],
   "source": [
    "def geom_mean(a):\n",
    "    d = a.shape[0]\n",
    "    prod = np.prod(a)\n",
    "    return prod**(1./d)"
   ]
  },
  {
   "cell_type": "code",
   "execution_count": 12,
   "metadata": {},
   "outputs": [
    {
     "data": {
      "text/plain": [
       "1.8171205928321397"
      ]
     },
     "execution_count": 12,
     "metadata": {},
     "output_type": "execute_result"
    }
   ],
   "source": [
    "a = np.array([1,2,3])\n",
    "geom_mean(a)"
   ]
  },
  {
   "cell_type": "markdown",
   "metadata": {},
   "source": [
    "## Second Solution"
   ]
  },
  {
   "cell_type": "markdown",
   "metadata": {},
   "source": [
    "We can first take the log of the elements in `a`, take their mean, and use the `exp` function to find the geometric mean. The reason is that:\n",
    "\n",
    "$$ \\sqrt[d]{a_1 \\times \\dots \\times a_d} = \\exp\\left( \\frac{1}{n}\\Bigg(\\log(a_1) + \\log(a_2) + \\dots + \\log(a_d) \\Bigg) \\right).$$"
   ]
  },
  {
   "cell_type": "code",
   "execution_count": 13,
   "metadata": {},
   "outputs": [],
   "source": [
    "def geom_mean(a):\n",
    "    return np.exp(np.mean(np.log(a)))"
   ]
  },
  {
   "cell_type": "code",
   "execution_count": 14,
   "metadata": {},
   "outputs": [
    {
     "data": {
      "text/plain": [
       "1.8171205928321397"
      ]
     },
     "execution_count": 14,
     "metadata": {},
     "output_type": "execute_result"
    }
   ],
   "source": [
    "a = np.array([1,2,3])\n",
    "geom_mean(a)"
   ]
  },
  {
   "cell_type": "markdown",
   "metadata": {},
   "source": [
    "# Task : adjusting the elements in a matrix"
   ]
  },
  {
   "cell_type": "markdown",
   "metadata": {},
   "source": [
    "**description** Given a numpy array `A` with shape `(n,m)`, we want to generate another matrix `B` with the same shape such that \n",
    "\n",
    "$$B_{i,j} = A_{i,j} * i / j \\qquad 1 \\leq i \\leq n, 1 \\leq j \\leq m.$$\n",
    "\n",
    "For instance, if \n",
    "\n",
    "$$ A = \\left[ \\begin{matrix}\n",
    "3 & 2 & 1 \\\\\n",
    "6 & 5 & 4 \n",
    "\\end{matrix}\n",
    "\\right ],$$\n",
    "\n",
    "then \n",
    "\n",
    "$$ B = \\left [ \\begin{matrix}\n",
    "3 \\times 1 / 1 & 2 \\times 1 / 2 & 1 \\times 1 /3 \\\\\n",
    "6 \\times 2 / 1 & 5 \\times 2 / 2 & 4 \\times 2 / 3\n",
    "\\end{matrix} \\right ]\n",
    "= \n",
    "\\left[\n",
    "\\begin{matrix}\n",
    "3 & 1 & 0.33 \\\\\n",
    "12 & 5 & 2.66 \n",
    "\\end{matrix}\n",
    "\\right].$$\n",
    "\n",
    "Write a function `matrix_manipulate_1` which takes a numpy array `A` as above, and outputs a numpy array `B` as above. Do not assume anything about the dimensions `n` and `m` other than they are positive integers."
   ]
  },
  {
   "cell_type": "code",
   "execution_count": 15,
   "metadata": {},
   "outputs": [],
   "source": [
    "def matrix_manipulate_1(A):\n",
    "    \n",
    "    # your code here\n",
    "    shape = A.shape\n",
    "    B = np.zeros(shape)\n",
    "    for r in range(shape[0]):\n",
    "        for c in range(shape[1]):\n",
    "            B[r][c] = A[r][c]*(r+1)/(c+1)\n",
    "    return B"
   ]
  },
  {
   "cell_type": "code",
   "execution_count": 23,
   "metadata": {},
   "outputs": [
    {
     "data": {
      "text/plain": [
       "array([[ 3.        ,  1.        ,  0.33333333],\n",
       "       [12.        ,  5.        ,  2.66666667]])"
      ]
     },
     "execution_count": 23,
     "metadata": {},
     "output_type": "execute_result"
    }
   ],
   "source": [
    "A = np.array([[3,2,1],[6,5,4]])\n",
    "matrix_manipulate_1(A)"
   ]
  },
  {
   "cell_type": "markdown",
   "metadata": {},
   "source": [
    "## Solution"
   ]
  },
  {
   "cell_type": "markdown",
   "metadata": {},
   "source": [
    "We are going to use the broadcasting concept. We create two useful numpy arrays: `row_multipliers` is a column array with shape `(n,1)` consisting of the elements `1,2,...,n`, and `column_divisors` is a row array with shape `(1,m)` consisting of the elements `1,2,...,m`. We use `np.arange` function to create these arrays. Note that since $i$ and $j$, the row and column indices, start from 1 in the above description, we need to add `1` to the output of `np.arange`. Finally, the answer is simply `(A * row_multipliers) / column_divisors` (verify that for yourself)."
   ]
  },
  {
   "cell_type": "code",
   "execution_count": 24,
   "metadata": {},
   "outputs": [],
   "source": [
    "def matrix_manipulate_1(A):\n",
    "    \n",
    "    (n,m) = A.shape\n",
    "    row_multipliers = (1+np.arange(n)).reshape(-1,1)\n",
    "    column_divisors = (1+np.arange(m)).reshape(1,-1).astype(np.float64)\n",
    "    B1 = A * row_multipliers\n",
    "    B = B1 / column_divisors\n",
    "    return B"
   ]
  },
  {
   "cell_type": "code",
   "execution_count": 25,
   "metadata": {},
   "outputs": [
    {
     "data": {
      "text/plain": [
       "array([[ 3.        ,  1.        ,  0.33333333],\n",
       "       [12.        ,  5.        ,  2.66666667]])"
      ]
     },
     "execution_count": 25,
     "metadata": {},
     "output_type": "execute_result"
    }
   ],
   "source": [
    "A = np.array([[3,2,1],[6,5,4]])\n",
    "matrix_manipulate_1(A)"
   ]
  },
  {
   "cell_type": "markdown",
   "metadata": {},
   "source": [
    "**question** does changing the order of multiplication and division affect the output?"
   ]
  },
  {
   "cell_type": "markdown",
   "metadata": {},
   "source": [
    "## Task: NumPy basic indexing"
   ]
  },
  {
   "cell_type": "markdown",
   "metadata": {},
   "source": [
    "NumPy indexing comes in two forms: basic and advanced indexing. Basic indexing involves selecting specific elements in arrays and slicing arrays. Advanced indexing involves using indexing arrays to select the elements that you want. In the following three tasks, we will look at the indexing features that tend to be useful in machine learning applications. For more information on indexing, see https://numpy.org/doc/stable/reference/arrays.indexing.html"
   ]
  },
  {
   "cell_type": "markdown",
   "metadata": {},
   "source": [
    "**Description**: Select the top 5 elements of list $x$ in a single line of code. Return a NumPy array of shape (5,) containing these elements.\n",
    "\n",
    "**Hint 1**: Use np.sort, negative indexing, and slicing\n",
    "\n",
    "**Hint 2**: np.sort will rearrange $x$ from least to greatest"
   ]
  },
  {
   "cell_type": "code",
   "execution_count": 30,
   "metadata": {},
   "outputs": [],
   "source": [
    "def top_five(x):\n",
    "    # your code here\n",
    "    return np.sort(x)[-5:]"
   ]
  },
  {
   "cell_type": "code",
   "execution_count": 40,
   "metadata": {},
   "outputs": [
    {
     "data": {
      "text/plain": [
       "array([5, 6, 7, 8, 9])"
      ]
     },
     "execution_count": 40,
     "metadata": {},
     "output_type": "execute_result"
    }
   ],
   "source": [
    "a = np.arange(10)\n",
    "a[-5:]"
   ]
  },
  {
   "cell_type": "markdown",
   "metadata": {},
   "source": [
    "### Test case"
   ]
  },
  {
   "cell_type": "code",
   "execution_count": 31,
   "metadata": {},
   "outputs": [],
   "source": [
    "np.random.seed(1)\n",
    "A = np.arange(100)\n",
    "np.random.shuffle(A)  # shuffle in place"
   ]
  },
  {
   "cell_type": "code",
   "execution_count": 33,
   "metadata": {},
   "outputs": [],
   "source": [
    "assert np.all(np.sort(top_five(A)) == np.array([95,96,97,98,99])), 'Incorrect!'"
   ]
  },
  {
   "cell_type": "markdown",
   "metadata": {},
   "source": [
    "### Solution"
   ]
  },
  {
   "cell_type": "code",
   "execution_count": 41,
   "metadata": {},
   "outputs": [],
   "source": [
    "def top_five(x):\n",
    "    # your code here\n",
    "    output = np.sort(x)[-5:]\n",
    "    return output\n",
    "\n",
    "assert np.all(np.sort(top_five(A)) == np.array([95,96,97,98,99])), 'Incorrect!'"
   ]
  },
  {
   "cell_type": "markdown",
   "metadata": {},
   "source": [
    "## Task: NumPy advanced indexing 1 (integer indexing)"
   ]
  },
  {
   "cell_type": "markdown",
   "metadata": {},
   "source": [
    "**Description**: Shuffle an input dataset $X$ (NumPy array of shape (N,28,28)) and the labels $y$ (NumPy array of shape (N,)). The outputs should be NumPy arrays with the same shape as the inputs.\n",
    "\n",
    "**Note**: To shuffle a dataset means to randomly reorder the data points in the dataset.\n",
    "\n",
    "**Hint**: Use np.random.shuffle and integer indexing."
   ]
  },
  {
   "cell_type": "code",
   "execution_count": null,
   "metadata": {},
   "outputs": [],
   "source": [
    "def shuffle_dataset(X, y):\n",
    "    # your code here\n",
    "    order = np.arange(X.shape[0])\n",
    "    np.random.shuffle(order)\n",
    "    \n",
    "    shuffled_X = X[order]\n",
    "    shuffled_y = y[order]\n",
    "    \n",
    "    return shuffled_X, shuffled_y"
   ]
  },
  {
   "cell_type": "markdown",
   "metadata": {},
   "source": [
    "### Test case"
   ]
  },
  {
   "cell_type": "code",
   "execution_count": null,
   "metadata": {},
   "outputs": [],
   "source": [
    "np.random.seed(1)\n",
    "A = np.random.randn(100, 28, 28)\n",
    "b = np.random.randint(0, 10, size=100)"
   ]
  },
  {
   "cell_type": "code",
   "execution_count": null,
   "metadata": {},
   "outputs": [],
   "source": [
    "shuffled_A, shuffled_b = shuffle_dataset(A, b)\n",
    "assert (shuffled_A.argmax() == 44718) and (shuffled_b.argmax() == 5), 'Incorrect!'"
   ]
  },
  {
   "cell_type": "markdown",
   "metadata": {},
   "source": [
    "### Solution"
   ]
  },
  {
   "cell_type": "code",
   "execution_count": null,
   "metadata": {},
   "outputs": [],
   "source": [
    "def shuffle_dataset(X, y):\n",
    "    # your code here\n",
    "    order = np.arange(X.shape[0])\n",
    "    np.random.shuffle(order)\n",
    "    \n",
    "    shuffled_X = X[order]\n",
    "    shuffled_y = y[order]\n",
    "    \n",
    "    return shuffled_X, shuffled_y"
   ]
  },
  {
   "cell_type": "code",
   "execution_count": null,
   "metadata": {},
   "outputs": [],
   "source": [
    "shuffled_A, shuffled_b = shuffle_dataset(A, b)\n",
    "assert (shuffled_A.argmax() == 44718) and (shuffled_b.argmax() == 5), 'Incorrect!'"
   ]
  },
  {
   "cell_type": "markdown",
   "metadata": {},
   "source": [
    "# Task: Adjacent Summations "
   ]
  },
  {
   "cell_type": "markdown",
   "metadata": {},
   "source": [
    "**description** Assume that `a` is a numpy array with shape `(n,)`. Construct a numpy array `b` with the same shape such that\n",
    "\n",
    "```\n",
    "b[0] = a[1] \n",
    "b[i] = a[i-1] + a[i+1] for 1 <= i <= n-2\n",
    "b[n-1] = a[n-2]\n",
    "```\n",
    "\n",
    "See the following image for an example:\n",
    "\n",
    "![example](adjacent_indices.png)\n",
    "\n",
    "Write a function `sum_adjacent` that inputs `a` and returns `b` as explained above."
   ]
  },
  {
   "cell_type": "code",
   "execution_count": null,
   "metadata": {},
   "outputs": [],
   "source": [
    "def sum_adjacent(a):\n",
    "    \n",
    "    # your code here"
   ]
  },
  {
   "cell_type": "markdown",
   "metadata": {},
   "source": [
    "## Solution"
   ]
  },
  {
   "cell_type": "code",
   "execution_count": null,
   "metadata": {},
   "outputs": [],
   "source": [
    "def sum_adjacent(a):\n",
    "    b = np.zeros_like(a)\n",
    "    b[:-1] += a[1:]\n",
    "    b[1:] += a[:-1]\n",
    "    return b"
   ]
  },
  {
   "cell_type": "code",
   "execution_count": null,
   "metadata": {},
   "outputs": [],
   "source": [
    "a = np.array([1,2,1,1,0])\n",
    "print(sum_adjacent(a))"
   ]
  },
  {
   "cell_type": "markdown",
   "metadata": {},
   "source": [
    "# Task : Subtracting geometric mean from the rows of a matrix"
   ]
  },
  {
   "cell_type": "markdown",
   "metadata": {},
   "source": [
    "**description:** assume that we have a numpy array `A` with shape `(n,m)` consisting of positive entries. We want to subtract all the elements in each row of `A` by the geometric mean of the elements in that row. For instance, if we have \n",
    "\n",
    "$$ A = \\left[\\begin{matrix}\n",
    "a_{1,1} & a_{1,2} & a_{1,3} \\\\\n",
    "a_{2,1} & a_{2,2} & a_{2,3}\n",
    "\\end{matrix}\\right],\n",
    "$$\n",
    "\n",
    "then we want to calculate the output matrix $B$ where\n",
    "\n",
    "$$ B = \\left[\\begin{matrix}\n",
    "a_{1,1} - g_1 & a_{1,2}-g_1 & a_{1,3}-g_1 \\\\\n",
    "a_{2,1}-g_2 & a_{2,2}-g_2 & a_{2,3}-g_2\n",
    "\\end{matrix}\\right],\n",
    "$$\n",
    "\n",
    "where\n",
    "\n",
    "$$ g_1 = \\sqrt[3]{a_{1,1} a_{1,2} a_{1,3}} \\qquad g_2 = \\sqrt[3]{a_{2,1} a_{2,2} a_{2,3}}, $$\n",
    "\n",
    "are the geometric means of the elements in each row of $A$.\n",
    "\n",
    "Write a function `subtract_geom_mean` which does this.\n",
    "\n",
    "**input:** a numpy array `A` of shape `(n,m)` consisting of positive values. Do not assume anything about `n` and `m` other than they are positive integers. \n",
    "\n",
    "**output:** a numpy array with the same shape `(n,m)` as we discussed above."
   ]
  },
  {
   "cell_type": "code",
   "execution_count": null,
   "metadata": {},
   "outputs": [],
   "source": [
    "def subtract_geom_mean(A):\n",
    "    # your code here:"
   ]
  },
  {
   "cell_type": "markdown",
   "metadata": {},
   "source": [
    "## Solution"
   ]
  },
  {
   "cell_type": "markdown",
   "metadata": {},
   "source": [
    "We can create a column array `g` which consists of the geometric means in each row. In order to do this, using the idea from the previous task, we can take the `log` from the matrix, take the average in each row, and use `exp` function to get the geometric means. Then, employing the broadcasting concept, the result is essentially `A-g`."
   ]
  },
  {
   "cell_type": "code",
   "execution_count": null,
   "metadata": {},
   "outputs": [],
   "source": [
    "def subtract_geom_mean(A):\n",
    "    m = A.shape[1] # the number of columns\n",
    "    g = np.exp(np.mean(np.log(A),axis=1)).reshape(-1,1)\n",
    "    return A - g"
   ]
  },
  {
   "cell_type": "code",
   "execution_count": null,
   "metadata": {},
   "outputs": [],
   "source": [
    "A = np.array([[1,2,3],[4,5,6]])\n",
    "subtract_geom_mean(A)"
   ]
  },
  {
   "cell_type": "markdown",
   "metadata": {},
   "source": [
    "## Task: Arg sort"
   ]
  },
  {
   "cell_type": "markdown",
   "metadata": {},
   "source": [
    "**Description**: Sorting is an important technique for anyone getting into machine learning and Python. Imagine a common scenario where a problem requires an array to be sorted based on another array, such as ordering flavors of ice cream based on a score from least to greatest. Here are the ice cream and their scores, in no particular order.\n",
    "\n",
    "Vanilla - 7\n",
    "\n",
    "Chocolate - 8\n",
    "\n",
    "Strawberry - 6\n",
    "\n",
    "Chocolate chip - 3\n",
    "\n",
    "Double chocolate - 4\n",
    "\n",
    "Green tea - 10\n",
    "\n",
    "There are a variety of tools you can use, but one important function is **np.argsort**. In this task you will use np.argsort to rank the ice cream flavors!"
   ]
  },
  {
   "cell_type": "code",
   "execution_count": null,
   "metadata": {},
   "outputs": [],
   "source": [
    "def rank_ice_creams(names, scores):\n",
    "    # your code here\n",
    "    \n",
    "    \n",
    "    return ranking"
   ]
  },
  {
   "cell_type": "code",
   "execution_count": null,
   "metadata": {},
   "outputs": [],
   "source": [
    "scores = np.array([7, 8, 6, 3, 4, 10])\n",
    "names = np.array(['Vanilla', 'Chocolate', 'Strawberry', 'Chocolate chip', 'Double chocolate', 'Green tea'])\n",
    "\n",
    "ice_cream_ranking = rank_ice_cream(names, scores)\n",
    "\n",
    "print(\"This is the ranking of ice cream from lowest to highest score!\")\n",
    "print(ice_cream_ranking)"
   ]
  },
  {
   "cell_type": "markdown",
   "metadata": {},
   "source": [
    "# Solution"
   ]
  },
  {
   "cell_type": "code",
   "execution_count": null,
   "metadata": {},
   "outputs": [],
   "source": [
    "def rank_ice_cream(names, scores):\n",
    "    # your code here\n",
    "    ranking = names[np.argsort(scores)]\n",
    "    \n",
    "    return ranking"
   ]
  },
  {
   "cell_type": "markdown",
   "metadata": {},
   "source": [
    "# Task: Manipulating Tensor data"
   ]
  },
  {
   "cell_type": "markdown",
   "metadata": {},
   "source": [
    "Let's start with some raw data in the form of a list of lists and convert that to a numpy array. We'll then do various operations on the resulting tensor."
   ]
  },
  {
   "cell_type": "code",
   "execution_count": null,
   "metadata": {},
   "outputs": [],
   "source": [
    "raw_data = [[5.3, 3.1, 1, 7, 8.3], [3, 5, 6.3, 4, 45], [99, 1, 101.2, 2., 0.2], [0., 0, 1., 22, 44.]]\n",
    "data = np.array(raw_data).astype(np.float32)\n",
    "\n",
    "print(type(data))   \n",
    "print(data.dtype)  \n",
    "print(data)"
   ]
  },
  {
   "cell_type": "markdown",
   "metadata": {},
   "source": [
    "**Question 1.** Double the values stored in even-numbered rows (0, 2, 4, 6 ...)"
   ]
  },
  {
   "cell_type": "code",
   "execution_count": null,
   "metadata": {},
   "outputs": [],
   "source": [
    "# we can do this using the double-colon (::) Numpy syntax and the multiplication-assignment operator \n",
    "data[::2, :] *= 2\n",
    "print(data)"
   ]
  },
  {
   "cell_type": "markdown",
   "metadata": {},
   "source": [
    "**Question 2.** Reverse the sequences in odd-numbered columns (1, 3, 5, 7 ...)"
   ]
  },
  {
   "cell_type": "code",
   "execution_count": null,
   "metadata": {},
   "outputs": [],
   "source": [
    "# we can do this using the double-colon (::) Numpy syntax. Specifically, ::-1 is used to reverse a sequence\n",
    "data[:, 1::2] = data[:, 1::2][::-1, :]\n",
    "print(data)    # notice the change in two of the columns of our data tensor"
   ]
  },
  {
   "cell_type": "markdown",
   "metadata": {},
   "source": [
    "**Question 3.** Add a new axis to the tensor"
   ]
  },
  {
   "cell_type": "code",
   "execution_count": null,
   "metadata": {},
   "outputs": [],
   "source": [
    "# there are a few ways to achieve this. Two of the methods are using 'None' and np.newaxis.\n",
    "print(data.shape)\n",
    "data_shape_expand_none = data[None]\n",
    "data_shape_expand_newaxis = data[np.newaxis]\n",
    "print(data_shape_expand_none.shape)\n",
    "print(data_shape_expand_newaxis.shape)"
   ]
  },
  {
   "cell_type": "code",
   "execution_count": null,
   "metadata": {},
   "outputs": [],
   "source": [
    "# this can work for adding a new axis along any dimension.\n",
    "print(data.shape)\n",
    "data_shape_expand_none = data[:, None]\n",
    "data_shape_expand_newaxis = data[:, np.newaxis]\n",
    "print(data_shape_expand_none.shape)\n",
    "print(data_shape_expand_newaxis.shape)"
   ]
  },
  {
   "cell_type": "code",
   "execution_count": null,
   "metadata": {},
   "outputs": [],
   "source": [
    "# numpy API has methods np.atleast_{1d/2d/3d} to create arrays of atleast that shape. For instance, with np.atleast_3d, a 1-D array of shape (N,) becomes a view of shape (1, N, 1), and a 2-D array of shape (M, N) becomes a view of shape (M, N, 1)\n",
    "one_d_arr = np.array([3.0, 4.0])\n",
    "print(one_d_arr.shape)\n",
    "three_d_arr = np.atleast_3d(one_d_arr)\n",
    "print(three_d_arr.shape)"
   ]
  },
  {
   "cell_type": "markdown",
   "metadata": {},
   "source": [
    "**Question 4.** Permute the axes of a tensor"
   ]
  },
  {
   "cell_type": "code",
   "execution_count": null,
   "metadata": {},
   "outputs": [],
   "source": [
    "# we will use the np.transpose API for this operation. It allows for different permutations of axes\n",
    "data_p = data[:, np.newaxis]\n",
    "print(\"Shape of tensor before transpose {}\".format(data_p.shape))\n",
    "data_p = np.transpose(data_p, (2,0,1))\n",
    "print(\"Shape of tensor after transpose {}\".format(data_p.shape))"
   ]
  },
  {
   "cell_type": "markdown",
   "metadata": {},
   "source": [
    "# Task: Array Stack"
   ]
  },
  {
   "cell_type": "markdown",
   "metadata": {},
   "source": [
    "**Question**: How to stack two arrays **a** and **b** vertically?"
   ]
  },
  {
   "cell_type": "code",
   "execution_count": null,
   "metadata": {},
   "outputs": [],
   "source": [
    "a = np.arange(10).reshape(2,-1)\n",
    "b = np.repeat(1, 10).reshape(2,-1)"
   ]
  },
  {
   "cell_type": "markdown",
   "metadata": {},
   "source": [
    "**Solution**:"
   ]
  },
  {
   "cell_type": "code",
   "execution_count": null,
   "metadata": {},
   "outputs": [],
   "source": [
    "# Method 1:\n",
    "np.concatenate([a, b], axis=0)"
   ]
  },
  {
   "cell_type": "code",
   "execution_count": null,
   "metadata": {},
   "outputs": [],
   "source": [
    "# Method 2:\n",
    "np.vstack([a, b])"
   ]
  },
  {
   "cell_type": "code",
   "execution_count": null,
   "metadata": {},
   "outputs": [],
   "source": [
    "# Method 3:\n",
    "np.r_[a, b]"
   ]
  },
  {
   "cell_type": "markdown",
   "metadata": {},
   "source": [
    "**Question**: How to stack two arrays **a** and **b** horizontally?"
   ]
  },
  {
   "cell_type": "code",
   "execution_count": null,
   "metadata": {},
   "outputs": [],
   "source": [
    "a = np.arange(10).reshape(2,-1)\n",
    "b = np.repeat(1, 10).reshape(2,-1)"
   ]
  },
  {
   "cell_type": "markdown",
   "metadata": {},
   "source": [
    "**Solution**:"
   ]
  },
  {
   "cell_type": "code",
   "execution_count": null,
   "metadata": {},
   "outputs": [],
   "source": [
    "# Method 1:\n",
    "np.concatenate([a, b], axis=1)"
   ]
  },
  {
   "cell_type": "code",
   "execution_count": null,
   "metadata": {},
   "outputs": [],
   "source": [
    "# Method 2:\n",
    "np.hstack([a, b])"
   ]
  },
  {
   "cell_type": "code",
   "execution_count": null,
   "metadata": {},
   "outputs": [],
   "source": [
    "# Method 3:\n",
    "np.c_[a, b]"
   ]
  },
  {
   "cell_type": "markdown",
   "metadata": {},
   "source": [
    "# Tricks: useful commands in NumPy"
   ]
  },
  {
   "cell_type": "markdown",
   "metadata": {},
   "source": [
    "- Matrix Multiply: `a.dot(b)`  is equivalent to  `a @ b`\n",
    "- Matrix Transpose: `a.transpose()`  is equivalent to  `a.T`\n",
    "- Add dummy dimension to expand the shape: `image = image[..., np.newaxis]`\n",
    "- Initialize zero-arrays with the same shape of a: `x = np.zeros_like(a)` is equivalent to `x = np.zeros(a.shape())`\n",
    "- ..."
   ]
  },
  {
   "cell_type": "code",
   "execution_count": null,
   "metadata": {},
   "outputs": [],
   "source": [
    "## Example 1\n",
    "a = np.random.rand(3, 2)\n",
    "b = np.random.rand(2, 3)\n",
    "assert np.any(a.dot(b) == a @ b)"
   ]
  },
  {
   "cell_type": "code",
   "execution_count": null,
   "metadata": {},
   "outputs": [],
   "source": [
    "## Example 2\n",
    "assert np.any(a.T == a.transpose())"
   ]
  },
  {
   "cell_type": "code",
   "execution_count": null,
   "metadata": {},
   "outputs": [],
   "source": [
    "## Example 3\n",
    "img1 = np.random.rand(32, 32, 3)\n",
    "img2 = np.random.rand(32, 32, 3)\n",
    "\n",
    "movie = np.concatenate((img1[np.newaxis,:], img2[np.newaxis,:]), axis=0)\n",
    "print(movie.shape)"
   ]
  },
  {
   "cell_type": "code",
   "execution_count": null,
   "metadata": {},
   "outputs": [],
   "source": [
    "## Example 4\n",
    "assert np.any(np.zeros(a.shape) == np.zeros_like(a))"
   ]
  },
  {
   "cell_type": "markdown",
   "metadata": {},
   "source": [
    "# <span style=\"color:red\">Advanced Tasks</span>"
   ]
  },
  {
   "cell_type": "markdown",
   "metadata": {},
   "source": [
    "# Task: Selective Sum of Squares"
   ]
  },
  {
   "cell_type": "markdown",
   "metadata": {},
   "source": [
    "**description:** Given two numpy arrays `a` and `b` with the same shape `(n,)`, we want to compute the following sum:\n",
    "\n",
    "$$ S = \\sum_{i=0}^{n-1} 1(a[i]>0.5) \\times b[i]^2.$$\n",
    "\n",
    "Here, $1(a[i]>0.5)$ is the indicator of $a[i] > 0.5$, i.e. $1(a[i]>0.5) = 1$ if $a[i] > 0.5$ and it is zero otherwise. Effectively, we want to find the sum of squares in `b` corresponding to places where `a` has value more than `0.5`. \n",
    "\n",
    "Write a function `selective_sum_squares` which takes the arrays `a` and `b` and returns $S$ as was defined above."
   ]
  },
  {
   "cell_type": "code",
   "execution_count": null,
   "metadata": {},
   "outputs": [],
   "source": [
    "def selective_sum_squares(a,b):\n",
    "    \n",
    "    # your code here"
   ]
  },
  {
   "cell_type": "markdown",
   "metadata": {},
   "source": [
    "## Solution 1"
   ]
  },
  {
   "cell_type": "code",
   "execution_count": null,
   "metadata": {},
   "outputs": [],
   "source": [
    "def selective_sum_squares(a,b):\n",
    "    return ((a > 0.5) * (b**2)).sum()"
   ]
  },
  {
   "cell_type": "code",
   "execution_count": null,
   "metadata": {},
   "outputs": [],
   "source": [
    "a = np.array([1, 0.1, 0.5, 0.6])\n",
    "b = np.array([1, 2  , 3  , 4])\n",
    "print(selective_sum_squares(a,b))"
   ]
  },
  {
   "cell_type": "markdown",
   "metadata": {},
   "source": [
    "## Solution 2"
   ]
  },
  {
   "cell_type": "code",
   "execution_count": null,
   "metadata": {},
   "outputs": [],
   "source": [
    "def selective_sum_squares(a,b):\n",
    "    return np.where(a>0.5,b**2,0).sum()"
   ]
  },
  {
   "cell_type": "code",
   "execution_count": null,
   "metadata": {},
   "outputs": [],
   "source": [
    "a = np.array([1, 0.1, 0.5, 0.6])\n",
    "b = np.array([1, 2  , 3  , 4])\n",
    "print(selective_sum_squares(a,b))"
   ]
  },
  {
   "cell_type": "markdown",
   "metadata": {},
   "source": [
    "## Task: NumPy advanced indexing 2 (Boolean indexing)"
   ]
  },
  {
   "cell_type": "markdown",
   "metadata": {},
   "source": [
    "**Description**: Select the elements of the input data $X$ (NumPy array of shape (N,d)) whose Euclidean distance from the mean data point is *greater* than 1.5 times the average distance from the mean. Average distance from the mean is the average Euclidean distance from the mean data point, i.e. $$ \\frac{1}{N}\\sum_{i=1}^{N}\\left\\| X_i - \\frac{1}{N}\\sum_{j=1}^{N}X_j \\right\\|_2 $$ Return the sorted NumPy array of shape (K,d) containing these elements.\n",
    "\n",
    "**Hint 1**: Use np.linalg.norm, np.std, and Boolean indexing.\n",
    "\n",
    "**Hint 2**: Find the distances first. Then find the distances that are greater than twice the mean distance."
   ]
  },
  {
   "cell_type": "code",
   "execution_count": null,
   "metadata": {},
   "outputs": [],
   "source": [
    "def select_outliers(X):\n",
    "    # your code here\n",
    "    \n",
    "    return outliers"
   ]
  },
  {
   "cell_type": "markdown",
   "metadata": {},
   "source": [
    "### Solution"
   ]
  },
  {
   "cell_type": "code",
   "execution_count": null,
   "metadata": {},
   "outputs": [],
   "source": [
    "def select_outliers(X):\n",
    "    # your code here\n",
    "    distances = np.linalg.norm(X - X.mean(0), axis=1)\n",
    "    outlier_boolean = distances > 1.2 * distances.mean()\n",
    "    outliers = X[outlier_boolean]\n",
    "    \n",
    "    return outliers"
   ]
  },
  {
   "cell_type": "markdown",
   "metadata": {},
   "source": [
    "### Visualization"
   ]
  },
  {
   "cell_type": "code",
   "execution_count": null,
   "metadata": {},
   "outputs": [],
   "source": [
    "np.random.seed(1)\n",
    "A = np.random.randn(10000,10)\n",
    "\n",
    "outliers = select_outliers(A)"
   ]
  },
  {
   "cell_type": "code",
   "execution_count": null,
   "metadata": {},
   "outputs": [],
   "source": [
    "plt.figure()\n",
    "plt.hist(np.linalg.norm(A - A.mean(0), axis=1), bins=30)\n",
    "plt.hist(np.linalg.norm(outliers - A.mean(0), axis=1))\n",
    "plt.title('Distribution of distances (outliers in orange)')\n",
    "plt.show()"
   ]
  },
  {
   "cell_type": "code",
   "execution_count": null,
   "metadata": {},
   "outputs": [],
   "source": []
  },
  {
   "cell_type": "code",
   "execution_count": null,
   "metadata": {},
   "outputs": [],
   "source": []
  },
  {
   "cell_type": "code",
   "execution_count": null,
   "metadata": {},
   "outputs": [],
   "source": []
  },
  {
   "cell_type": "code",
   "execution_count": null,
   "metadata": {
    "deletable": false,
    "editable": false,
    "nbgrader": {
     "cell_type": "code",
     "checksum": "de1095f20b2f9beb6e247e9ee4f4a1e5",
     "grade": true,
     "grade_id": "cell-8e7887c6a7f06ef2",
     "locked": true,
     "points": 100,
     "schema_version": 3,
     "solution": false,
     "task": false
    }
   },
   "outputs": [],
   "source": [
    "# Don't remove this cell. It gives you a full score on the assignment.\n",
    "assert True"
   ]
  }
 ],
 "metadata": {
  "kernelspec": {
   "display_name": "Python 3",
   "language": "python",
   "name": "python3"
  },
  "language_info": {
   "codemirror_mode": {
    "name": "ipython",
    "version": 3
   },
   "file_extension": ".py",
   "mimetype": "text/x-python",
   "name": "python",
   "nbconvert_exporter": "python",
   "pygments_lexer": "ipython3",
   "version": "3.7.6"
  }
 },
 "nbformat": 4,
 "nbformat_minor": 4
}
