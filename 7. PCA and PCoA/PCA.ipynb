{
 "cells": [
  {
   "cell_type": "code",
   "execution_count": 1,
   "metadata": {
    "deletable": false,
    "editable": false,
    "nbgrader": {
     "cell_type": "code",
     "checksum": "25baca8bff1b0a726cbbb5e2fbb5d12c",
     "grade": false,
     "grade_id": "cell-ec24e86b4be87c90",
     "locked": true,
     "schema_version": 3,
     "solution": false,
     "task": false
    }
   },
   "outputs": [],
   "source": [
    "%matplotlib inline\n",
    "%load_ext autoreload\n",
    "%autoreload 2\n",
    "\n",
    "import matplotlib.pyplot as plt\n",
    "import numpy as np\n",
    "import seaborn as sns\n",
    "import pandas as pd\n",
    "import time\n",
    "import os\n",
    "from sklearn.decomposition import TruncatedSVD\n",
    "\n",
    "from aml_utils import test_case_checker, perform_computation"
   ]
  },
  {
   "cell_type": "markdown",
   "metadata": {
    "deletable": false,
    "editable": false,
    "nbgrader": {
     "cell_type": "markdown",
     "checksum": "679ff8535f8f0ae9959669d760d38877",
     "grade": false,
     "grade_id": "cell-8bbaf04a7d2caac7",
     "locked": true,
     "schema_version": 3,
     "solution": false,
     "task": false
    }
   },
   "source": [
    "## <span style=\"color:red\">**Attention:**</span>\n",
    "\n",
    "This assignment is computationally heavy, and inefficient implementations may not pass the autograding even if they technically produce the correct results. To avoid this, make sure you read and understand all the instructions before starting to implement the tasks. Failure to follow the instructions closely will most likely cause timeouts.\n",
    "\n",
    "It is **your responsibility** to make sure your implementation is not only **correct**, but also as **efficient** as possible. If you follow all the instructions provided, you should be able to have all the cells evaluated in under 10 minutes."
   ]
  },
  {
   "cell_type": "markdown",
   "metadata": {
    "deletable": false,
    "editable": false,
    "nbgrader": {
     "cell_type": "markdown",
     "checksum": "62dfee5c699dd6889eb0b60e9ca1e6bb",
     "grade": false,
     "grade_id": "cell-126626f62cc20854",
     "locked": true,
     "schema_version": 3,
     "solution": false,
     "task": false
    }
   },
   "source": [
    "# *Assignment Summary"
   ]
  },
  {
   "cell_type": "markdown",
   "metadata": {
    "deletable": false,
    "editable": false,
    "nbgrader": {
     "cell_type": "markdown",
     "checksum": "d4ec49dac74703bc89fd2451c53c3e62",
     "grade": false,
     "grade_id": "cell-4aac2e8e7822fd0a",
     "locked": true,
     "schema_version": 3,
     "solution": false,
     "task": false
    }
   },
   "source": [
    "CIFAR-10 is a dataset of 32x32 images in 10 categories, collected by Alex Krizhevsky, Vinod Nair, and Geoffrey Hinton. It is often used to evaluate machine learning algorithms. You can download this dataset from https://www.cs.toronto.edu/~kriz/cifar.html.\n",
    "\n",
    "  * For each category, compute the mean image and the first 20 principal components. Plot the error resulting from representing the images of each category using the first 20 principal components against the category.\n",
    "  * Compute the distances between mean images for each pair of classes. Use principal coordinate analysis to make a 2D map of the means of each categories. For this exercise, compute distances by thinking of the images as vectors.\n",
    "  * Here is another measure of the similarity of two classes. For class A and class B, define E(A | B) to be the average error obtained by representing all the images of class A using the mean of class A and the first 20 principal components of class B. Now define the similarity between classes to be (1/2)(E(A | B) + E(B | A)). If A and B are very similar, then this error should be small, because A's principal components should be good at representing B. But if they are very different, then A's principal components should represent B poorly. In turn, the similarity measure should be big. Use principal coordinate analysis to make a 2D map of the classes. Compare this map to the map in the previous exercise? are they different? why?"
   ]
  },
  {
   "cell_type": "markdown",
   "metadata": {
    "deletable": false,
    "editable": false,
    "nbgrader": {
     "cell_type": "markdown",
     "checksum": "b31fd936fd668aa58f1c0d40377691de",
     "grade": false,
     "grade_id": "cell-4323ab942f9861c8",
     "locked": true,
     "schema_version": 3,
     "solution": false,
     "task": false
    }
   },
   "source": [
    "# 0. Data"
   ]
  },
  {
   "cell_type": "markdown",
   "metadata": {
    "deletable": false,
    "editable": false,
    "nbgrader": {
     "cell_type": "markdown",
     "checksum": "f2bb5361816db9dfd598626b5fccc149",
     "grade": false,
     "grade_id": "cell-ec182aaf67ad639b",
     "locked": true,
     "schema_version": 3,
     "solution": false,
     "task": false
    }
   },
   "source": [
    "## 0.1 Description"
   ]
  },
  {
   "cell_type": "markdown",
   "metadata": {
    "deletable": false,
    "editable": false,
    "nbgrader": {
     "cell_type": "markdown",
     "checksum": "f8322e150c1494ee142807ec296adf39",
     "grade": false,
     "grade_id": "cell-e68149838859a50d",
     "locked": true,
     "schema_version": 3,
     "solution": false,
     "task": false
    }
   },
   "source": [
    "CIFAR-10 is a dataset of 32x32 images in 10 categories, collected by Alex Krizhevsky, Vinod Nair, and Geoffrey Hinton. It is often used to evaluate machine learning algorithms. You can download this dataset from https://www.cs.toronto.edu/~kriz/cifar.html."
   ]
  },
  {
   "cell_type": "markdown",
   "metadata": {
    "deletable": false,
    "editable": false,
    "nbgrader": {
     "cell_type": "markdown",
     "checksum": "cabd3372b4d5b8de2ca03fa04a627a79",
     "grade": false,
     "grade_id": "cell-c26f601a37c82ebb",
     "locked": true,
     "schema_version": 3,
     "solution": false,
     "task": false
    }
   },
   "source": [
    "## 0.2 Information Summary"
   ]
  },
  {
   "cell_type": "markdown",
   "metadata": {
    "deletable": false,
    "editable": false,
    "nbgrader": {
     "cell_type": "markdown",
     "checksum": "2e558b97fb10de28fcd1b2ff4e32bb7f",
     "grade": false,
     "grade_id": "cell-1e97401ec43057c7",
     "locked": true,
     "schema_version": 3,
     "solution": false,
     "task": false
    }
   },
   "source": [
    "* **Input/Output**: This data has a set of 32 pixel rows, 32 pixel columns, and 3 color channels. Therefore, each single image, is vectorized, will consist of $32\\times32\\times3$ elements (i.e., each image has 3072 dimensions). There are a total of 60000 samples labelled from 10 class. The data set is balanced with each class having exactly 6000 samples.\n",
    "\n",
    "* **Missing Data**: There is no missing data.\n",
    "\n",
    "* **Final Goal**: We want to understand the data using multi-dimensional scaling methods."
   ]
  },
  {
   "cell_type": "markdown",
   "metadata": {
    "deletable": false,
    "editable": false,
    "nbgrader": {
     "cell_type": "markdown",
     "checksum": "855bd0648f936113f50b7b8db04d2fba",
     "grade": false,
     "grade_id": "cell-13ad8c559fbfe967",
     "locked": true,
     "schema_version": 3,
     "solution": false,
     "task": false
    }
   },
   "source": [
    "## 0.3 Loading The Data"
   ]
  },
  {
   "cell_type": "markdown",
   "metadata": {
    "deletable": false,
    "editable": false,
    "nbgrader": {
     "cell_type": "markdown",
     "checksum": "3225c13a2a95a973feeccb98d3a875dd",
     "grade": false,
     "grade_id": "cell-5c3f781747e04661",
     "locked": true,
     "schema_version": 3,
     "solution": false,
     "task": false
    }
   },
   "source": [
    "If you are curious how the original data was obtained, we used the torchvision API to download and pre-process it. The ready-to-use data is stored in numpy format for easier access."
   ]
  },
  {
   "cell_type": "code",
   "execution_count": 2,
   "metadata": {
    "deletable": false,
    "editable": false,
    "nbgrader": {
     "cell_type": "code",
     "checksum": "99e4c8be52f4a804586e1fb0de50633c",
     "grade": false,
     "grade_id": "cell-3d82a251ca8524f2",
     "locked": true,
     "schema_version": 3,
     "solution": false,
     "task": false
    }
   },
   "outputs": [],
   "source": [
    "if os.path.exists('../PCA-lib/cifar10.npz'):    \n",
    "    np_file = np.load('../PCA-lib/cifar10.npz')\n",
    "    train_images_raw = np_file['train_images_raw']\n",
    "    train_labels = np_file['train_labels']\n",
    "    eval_images_raw = np_file['eval_images_raw']\n",
    "    eval_labels = np_file['eval_labels']\n",
    "else:\n",
    "    import torchvision\n",
    "    import shutil\n",
    "    download_ = not os.path.exists('../PCA-lib/cifar10/')\n",
    "    data_train = torchvision.datasets.CIFAR10('../PCA-lib/cifar10', train=True, transform=None, target_transform=None, download=download_)\n",
    "    data_eval = torchvision.datasets.CIFAR10('../PCA-lib/cifar10', train=False, transform=None, target_transform=None, download=download_)\n",
    "    shutil.rmtree('../PCA-lib/cifar10/')\n",
    "    train_images_raw = data_train.data\n",
    "    train_labels = np.array(data_train.targets)\n",
    "    eval_images_raw = data_eval.data\n",
    "    eval_labels = np.array(data_eval.targets)\n",
    "    np.savez('../PCA-lib/cifar10.npz', train_images_raw=train_images_raw, train_labels=train_labels, \n",
    "             eval_images_raw=eval_images_raw, eval_labels=eval_labels)"
   ]
  },
  {
   "cell_type": "code",
   "execution_count": 3,
   "metadata": {
    "deletable": false,
    "editable": false,
    "nbgrader": {
     "cell_type": "code",
     "checksum": "e355cb2724429c6f8e883a5674c065a9",
     "grade": false,
     "grade_id": "cell-d819499d98875dcb",
     "locked": true,
     "schema_version": 3,
     "solution": false,
     "task": false
    }
   },
   "outputs": [],
   "source": [
    "class_to_idx = {'airplane': 0,\n",
    "                'automobile': 1,\n",
    "                'bird': 2,\n",
    "                'cat': 3,\n",
    "                'deer': 4,\n",
    "                'dog': 5,\n",
    "                'frog': 6,\n",
    "                'horse': 7,\n",
    "                'ship': 8,\n",
    "                'truck': 9}"
   ]
  },
  {
   "cell_type": "code",
   "execution_count": 4,
   "metadata": {
    "deletable": false,
    "editable": false,
    "nbgrader": {
     "cell_type": "code",
     "checksum": "348a58f47b0d37f5dc7906c57f44849c",
     "grade": false,
     "grade_id": "cell-945677be9bc4323a",
     "locked": true,
     "schema_version": 3,
     "solution": false,
     "task": false
    }
   },
   "outputs": [
    {
     "data": {
      "text/plain": [
       "((60000, 32, 32, 3), (60000,))"
      ]
     },
     "execution_count": 4,
     "metadata": {},
     "output_type": "execute_result"
    }
   ],
   "source": [
    "images_raw = np.concatenate([train_images_raw, eval_images_raw], axis=0)\n",
    "labels = np.concatenate([train_labels, eval_labels], axis=0)\n",
    "images_raw.shape, labels.shape"
   ]
  },
  {
   "cell_type": "markdown",
   "metadata": {
    "deletable": false,
    "editable": false,
    "nbgrader": {
     "cell_type": "markdown",
     "checksum": "9d1d7be45d4071c4f45fed60ad79231e",
     "grade": false,
     "grade_id": "cell-b8ce376827a7d7d6",
     "locked": true,
     "schema_version": 3,
     "solution": false,
     "task": false
    }
   },
   "source": [
    "# 1. Principal Component Analysis"
   ]
  },
  {
   "cell_type": "markdown",
   "metadata": {
    "deletable": false,
    "editable": false,
    "nbgrader": {
     "cell_type": "markdown",
     "checksum": "b3933fdb13d84b42673e06816854a41e",
     "grade": false,
     "grade_id": "cell-d68e5b994b848f78",
     "locked": true,
     "schema_version": 3,
     "solution": false,
     "task": false
    }
   },
   "source": [
    "0. Let's say we have Data Matrix $X$ with $N$ rows (i.e., data points) and $d$ columns (i.e., features).\n",
    "$$X = [\\cdots]_{N \\times d}$$\n",
    "1. Let's perform SVD on the $X$.\n",
    "$$X=U_x S_x V_x^T$$\n",
    "Let's assume $N>d$ (We have 6000 data points per class, which is more than the 3072 dimenstions).\n",
    "\n",
    "By the way SVD works, we should have\n",
    "$$U_x = [\\cdots]_{N \\times d}$$\n",
    "$$S_x = [\\cdots]_{d \\times d}$$\n",
    "$$V_x = [\\cdots]_{d \\times d}$$\n",
    "and\n",
    "$$U_x^T U_x = I_{d\\times d}$$\n",
    "$$V_x^T V_x = I_{d\\times d}$$\n",
    "\n",
    "2. The textbook says we need the following decomposition for the covariance matrix $\\Sigma$:\n",
    "$$\\Sigma \\mathcal{U} = \\mathcal{U} \\Lambda$$\n",
    "3. We assume that X has mean zero (i.e., we already subtracted the feature averages). If $X$ has $N$ rows (i.e., data items), we have\n",
    "$$\\Sigma = \\frac{1}{N} X^TX$$\n",
    "4. Let's find $\\Sigma$ in terms of $U_x$, $S_x$, and $V_x$\n",
    "$$\\Sigma = \\frac{1}{N} X^TX = \\frac{1}{N} V_x S_x U_x^T U_x S_x V_x^T = V_x \\frac{S_x^2}{N} V_x^T$$\n",
    "$$\\Rightarrow \\Sigma V_x = V_x \\frac{S_x^2}{N}$$\n",
    "5. By comparison, we have\n",
    "$$\\mathcal{U} = V_x$$\n",
    "$$\\Lambda = \\frac{S_x^2}{N}$$"
   ]
  },
  {
   "cell_type": "markdown",
   "metadata": {
    "deletable": false,
    "editable": false,
    "nbgrader": {
     "cell_type": "markdown",
     "checksum": "d00527efecd70dab54cea61670606a2e",
     "grade": false,
     "grade_id": "cell-bbda7adfc7fccf50",
     "locked": true,
     "schema_version": 3,
     "solution": false,
     "task": false
    }
   },
   "source": [
    "### Considering the above:\n",
    "1. **There is no need to compute the covariance matrix $\\Sigma$** and then find its diagonalization; You can easily perform SVD on the data matrix $X$, and get what you need!\n",
    "2. In fact, you do not even need the matrices $V_x$ and $U_x$ for computing the mean squared error; You can infer the mean squared error using only the $S_x$ matrix. \n",
    "    * Numpy's SVD function `np.linalg.svd` has an argument `compute_uv` that turns off returning the $U$ and $V$ matrices for better efficiency. Therefore, you may be able to save some runtime in large data sets if you only care about the mean squared error!"
   ]
  },
  {
   "cell_type": "markdown",
   "metadata": {
    "deletable": false,
    "editable": false,
    "nbgrader": {
     "cell_type": "markdown",
     "checksum": "cf4e873cf56ab3088193186ba96f48d7",
     "grade": false,
     "grade_id": "cell-39ec4f39cb201728",
     "locked": true,
     "schema_version": 3,
     "solution": false,
     "task": false
    }
   },
   "source": [
    "# <span style=\"color:blue\">Task 1</span>"
   ]
  },
  {
   "cell_type": "markdown",
   "metadata": {
    "deletable": false,
    "editable": false,
    "nbgrader": {
     "cell_type": "markdown",
     "checksum": "efe4b7fbebb3a0cc3baa31ffd1b26414",
     "grade": false,
     "grade_id": "cell-98ce097d8b3f6101",
     "locked": true,
     "schema_version": 3,
     "solution": false,
     "task": false
    }
   },
   "source": [
    "Write a function `pca_mse` that takes two arguments as input\n",
    "\n",
    "1. `data_raw`: a numpy array with the shape $(N, \\cdots)$, where $N$ is the number of samples, and there may be many excess dimensions denoted by $\\cdots$. You will have to reshape this input `data_raw` matrix to obtain a shape of $(N, d)$, where $d$ is the vectorized data's dimension. For example, `data_raw` could have an input shape of `(6000, 50, 50, 3)`. In this case you will have to reshape the input data to have a shape of `(6000, 7500)`.\n",
    "2. `num_components`: This is the number of PCA components that we want to retain. This variable is denoted by $r$ in the PCA definition in the textbook.\n",
    "\n",
    "and returns the variable `mse` which is the mean squared error of the PCA projection into the designated number of principal components.\n",
    "\n",
    "**Important Note**: Make sure you use `np.linalg.svd` for the SVD operation. Do not use any other matrix factorization function for this question (such as `np.linalg.eig`).\n",
    "\n",
    "**Important Note**: Make sure you read and understand the notes from the previous cells before you start implementing. Failing to properly set the arguments for `np.linalg.svd` or trying to find the mean squared error by calculating the reconstruction error may cause extreme delays and timeouts for your implementation.\n",
    "\n",
    "**Hint**: If you don't know how to extract the mean squared error of the PCA projection, or don't have a fresh probability and statistics memory, take a look at the Principal Component Analysis chapter of the most recent version of the textbook; the subsection titled \"The error in a low-dimensional representation\" explains how to find the mean squared error of the PCA projection as a function of the eigenvalues that were dropped."
   ]
  },
  {
   "cell_type": "code",
   "execution_count": 5,
   "metadata": {
    "deletable": false
   },
   "outputs": [],
   "source": [
    "def pca_mse(data_raw, num_components=20):\n",
    "    \n",
    "    # your code here\n",
    "    # mse = sum(s^2[dropped]) / N\n",
    "    \n",
    "    N = data_raw.shape[0]\n",
    "    data_reshaped = data_raw.reshape((N, -1))\n",
    "    data_recentered = data_reshaped - data_reshaped.mean(axis=0)\n",
    "    s = np.linalg.svd(data_recentered, compute_uv=False)\n",
    "    \n",
    "    covmat = np.diag(s)\n",
    "    # mse = np.sum(np.linalg.eig(np.square(covmat))[0][num_components:]) / N\n",
    "    mse = np.sum(np.square(s)[num_components:]) / N\n",
    "    \n",
    "    # mse = np.sum(np.linalg.eig(np.square(np.diag(np.linalg.svd(data_raw.reshape(data_raw.shape[0], -1) - data_raw.reshape(data_raw.shape[0], -1).mean(axis=0), compute_uv=False))))[0][num_components:]) / data_raw.shape[0]\n",
    "    # raise NotImplementedError\n",
    "    \n",
    "    assert np.isscalar(mse)\n",
    "    return np.float64(mse)"
   ]
  },
  {
   "cell_type": "code",
   "execution_count": 6,
   "metadata": {
    "deletable": false,
    "editable": false,
    "nbgrader": {
     "cell_type": "code",
     "checksum": "b14d463867b6cca9804bdea4bf7b57f3",
     "grade": false,
     "grade_id": "cell-7b3cf76711dfe8e5",
     "locked": true,
     "schema_version": 3,
     "solution": false,
     "task": false
    }
   },
   "outputs": [],
   "source": [
    "# Performing sanity checks on your implementation\n",
    "some_data = (np.arange(35).reshape(5,7) ** 13) % 20\n",
    "some_mse = pca_mse(some_data, num_components=2)\n",
    "assert some_mse.round(3) == 37.903\n",
    "\n",
    "# Checking against the pre-computed test database\n",
    "test_results = test_case_checker(pca_mse, task_id=1)\n",
    "assert test_results['passed'], test_results['message']"
   ]
  },
  {
   "cell_type": "code",
   "execution_count": 7,
   "metadata": {
    "code_folding": [
     132
    ],
    "deletable": false,
    "editable": false,
    "nbgrader": {
     "cell_type": "code",
     "checksum": "1bd28ecc85dbedccbfae32b980f582f2",
     "grade": true,
     "grade_id": "cell-800a950b15a6fb06",
     "locked": true,
     "points": 1,
     "schema_version": 3,
     "solution": false,
     "task": false
    }
   },
   "outputs": [],
   "source": [
    "# This cell is left empty as a seperator. You can leave this cell as it is, and you should not delete it.\n"
   ]
  },
  {
   "cell_type": "code",
   "execution_count": 8,
   "metadata": {
    "deletable": false,
    "editable": false,
    "nbgrader": {
     "cell_type": "code",
     "checksum": "656452546acd1f59e56409fa955bbdaf",
     "grade": true,
     "grade_id": "cell-c5ac42c920a245a2",
     "locked": true,
     "points": 0,
     "schema_version": 3,
     "solution": false,
     "task": false
    }
   },
   "outputs": [],
   "source": [
    "# This cell is left empty as a seperator. You can leave this cell as it is, and you should not delete it.\n"
   ]
  },
  {
   "cell_type": "code",
   "execution_count": 9,
   "metadata": {
    "deletable": false,
    "editable": false,
    "nbgrader": {
     "cell_type": "code",
     "checksum": "1384ab548fa261ac86b5b979b352a76a",
     "grade": false,
     "grade_id": "cell-ab1d28ba3637952c",
     "locked": true,
     "schema_version": 3,
     "solution": false,
     "task": false
    }
   },
   "outputs": [
    {
     "name": "stdout",
     "output_type": "stream",
     "text": [
      "Processing Class airplane (The SVD operation took 8.938 seconds)\n",
      "Processing Class automobile (The SVD operation took 8.806 seconds)\n",
      "Processing Class bird (The SVD operation took 8.914 seconds)\n",
      "Processing Class cat (The SVD operation took 8.891 seconds)\n",
      "Processing Class deer (The SVD operation took 8.908 seconds)\n",
      "Processing Class dog (The SVD operation took 8.918 seconds)\n",
      "Processing Class frog (The SVD operation took 8.820 seconds)\n",
      "Processing Class horse (The SVD operation took 8.992 seconds)\n",
      "Processing Class ship (The SVD operation took 9.137 seconds)\n",
      "Processing Class truck (The SVD operation took 9.149 seconds)\n"
     ]
    }
   ],
   "source": [
    "if perform_computation:\n",
    "    class_names = []\n",
    "    class_mses = []\n",
    "    for cls_name, cls_label in class_to_idx.items():\n",
    "        data_raw = images_raw[labels == cls_label,:,:,:]\n",
    "        start_time = time.time()\n",
    "        print(f'Processing Class {cls_name}', end='')\n",
    "        cls_mse = pca_mse(data_raw, num_components=20)\n",
    "        print(f' (The SVD operation took %.3f seconds)' % (time.time()-start_time))\n",
    "        class_names.append(cls_name)\n",
    "        class_mses.append(cls_mse)"
   ]
  },
  {
   "cell_type": "code",
   "execution_count": 10,
   "metadata": {
    "deletable": false,
    "editable": false,
    "nbgrader": {
     "cell_type": "code",
     "checksum": "fb137442fafbfbd52f5942ca951a9e38",
     "grade": true,
     "grade_id": "cell-41c7d99943df80f4",
     "locked": true,
     "points": 0,
     "schema_version": 3,
     "solution": false,
     "task": false
    }
   },
   "outputs": [],
   "source": [
    "# This cell is left empty as a seperator. You can leave this cell as it is, and you should not delete it.\n"
   ]
  },
  {
   "cell_type": "code",
   "execution_count": 11,
   "metadata": {
    "deletable": false,
    "editable": false,
    "nbgrader": {
     "cell_type": "code",
     "checksum": "a2cb34cb922fd13877b57e5d62497601",
     "grade": false,
     "grade_id": "cell-1588a9242c614ddc",
     "locked": true,
     "schema_version": 3,
     "solution": false,
     "task": false
    }
   },
   "outputs": [
    {
     "data": {
      "image/png": "[encoded data removed]",
      "text/plain": [
       "<Figure size 1080x480 with 1 Axes>"
      ]
     },
     "metadata": {
      "needs_background": "light"
     },
     "output_type": "display_data"
    }
   ],
   "source": [
    "if perform_computation:\n",
    "    fig, ax = plt.subplots(figsize=(9,4.), dpi=120)\n",
    "    sns.barplot(class_names, class_mses, ax=ax)\n",
    "    ax.set_title('The Mean Squared Error of Representing Each Class by the Principal Components')\n",
    "    ax.set_xlabel('Class')\n",
    "    _ = ax.set_ylabel('Mean Squared Error')"
   ]
  },
  {
   "cell_type": "markdown",
   "metadata": {
    "deletable": false,
    "editable": false,
    "nbgrader": {
     "cell_type": "markdown",
     "checksum": "7b39093e1d1f3a15ff7316a81b5fe1ad",
     "grade": false,
     "grade_id": "cell-65118005cbfdd43e",
     "locked": true,
     "schema_version": 3,
     "solution": false,
     "task": false
    }
   },
   "source": [
    "# 2. Principal Coordinate Analysis"
   ]
  },
  {
   "cell_type": "code",
   "execution_count": 12,
   "metadata": {
    "deletable": false,
    "editable": false,
    "nbgrader": {
     "cell_type": "code",
     "checksum": "e76f7f89b25e668f71fe5f8e7ed1af86",
     "grade": false,
     "grade_id": "cell-7eede4d32e924636",
     "locked": true,
     "schema_version": 3,
     "solution": false,
     "task": false
    }
   },
   "outputs": [],
   "source": [
    "class_mean_list = []\n",
    "for cls_label in sorted(class_to_idx.values()):\n",
    "    data_raw = images_raw[labels == cls_label,:,:,:]\n",
    "    class_mean = np.mean(data_raw, axis=0).reshape(1,-1)\n",
    "    class_mean_list.append(class_mean)\n",
    "class_means = np.concatenate(class_mean_list, axis=0)"
   ]
  },
  {
   "cell_type": "markdown",
   "metadata": {
    "deletable": false,
    "editable": false,
    "nbgrader": {
     "cell_type": "markdown",
     "checksum": "3077826c86cab3d4d068e27e1ed76b40",
     "grade": false,
     "grade_id": "cell-1cf14286181f0bea",
     "locked": true,
     "schema_version": 3,
     "solution": false,
     "task": false
    }
   },
   "source": [
    "# <span style=\"color:blue\">Task 2</span>"
   ]
  },
  {
   "cell_type": "markdown",
   "metadata": {
    "deletable": false,
    "editable": false,
    "nbgrader": {
     "cell_type": "markdown",
     "checksum": "adc46c5a03bcc46a436f9e9a8415e861",
     "grade": false,
     "grade_id": "cell-ed6e2a8895bc8b9e",
     "locked": true,
     "schema_version": 3,
     "solution": false,
     "task": false
    }
   },
   "source": [
    "Write a function `mean_image_squared_distances` that takes the matrix `class_means` as an input and return the `SquaredDistances` matrix as output.\n",
    "\n",
    "`class_means` is a numpy array like a traditional data matrix; it has a shape of $(N,d)$ where there are $N$ individual data-points where each is stored in a single $d$ dimensional row. $(N,d)$ could be anything, so do not make assumptions about it.\n",
    "\n",
    "Your job is to produce the numpy array `SquaredDistances` whose $i^{th}$ row and $j^{th}$ column is the **squared** Euclidean distance between the $i^{th}$ row of `class_means` and $j^{th}$ row of `class_means`. Obviously\n",
    "* The diagonal elements should be zero.\n",
    "* The `SquaredDistances` should be symmetric."
   ]
  },
  {
   "cell_type": "code",
   "execution_count": 13,
   "metadata": {
    "deletable": false
   },
   "outputs": [],
   "source": [
    "def mean_image_squared_distances(class_means):\n",
    "    \n",
    "    # your code here\n",
    "    \n",
    "    N,d = class_means.shape\n",
    "    SquaredDistances = np.zeros((N, N))\n",
    "    for i in range(N):\n",
    "        for j in range(N):\n",
    "            SquaredDistances[i][j] = np.square(np.linalg.norm(class_means[i] - class_means[j], ord=2))\n",
    "    # raise NotImplementedError\n",
    "    \n",
    "    return SquaredDistances"
   ]
  },
  {
   "cell_type": "code",
   "execution_count": 14,
   "metadata": {
    "deletable": false,
    "editable": false,
    "nbgrader": {
     "cell_type": "code",
     "checksum": "407b10cd3231c1c500ce61f21c237195",
     "grade": false,
     "grade_id": "cell-a60ed831d074795d",
     "locked": true,
     "schema_version": 3,
     "solution": false,
     "task": false
    }
   },
   "outputs": [],
   "source": [
    "# Performing sanity checks on your implementation\n",
    "some_data = ((np.arange(35).reshape(5,7) ** 13) % 20) / 7.\n",
    "some_dist = mean_image_squared_distances(some_data)\n",
    "assert np.array_equal(some_dist.round(3), np.array([[ 0.   ,  4.551, 18.204,  8.306, 14.041],\n",
    "                                                    [ 4.551,  0.   , 12.714,  3.918, 12.551],\n",
    "                                                    [18.204, 12.714,  0.   ,  8.633,  8.735],\n",
    "                                                    [ 8.306,  3.918,  8.633,  0.   ,  7.49 ],\n",
    "                                                    [14.041, 12.551,  8.735,  7.49 ,  0.   ]]))\n",
    "\n",
    "# Checking against the pre-computed test database\n",
    "test_results = test_case_checker(mean_image_squared_distances, task_id=2)\n",
    "assert test_results['passed'], test_results['message']"
   ]
  },
  {
   "cell_type": "code",
   "execution_count": 15,
   "metadata": {
    "deletable": false,
    "editable": false,
    "nbgrader": {
     "cell_type": "code",
     "checksum": "31575ff155f430546987e17bbb085058",
     "grade": true,
     "grade_id": "cell-5f78e47da5118d6c",
     "locked": true,
     "points": 1,
     "schema_version": 3,
     "solution": false,
     "task": false
    }
   },
   "outputs": [],
   "source": [
    "# This cell is left empty as a seperator. You can leave this cell as it is, and you should not delete it.\n"
   ]
  },
  {
   "cell_type": "markdown",
   "metadata": {
    "deletable": false,
    "editable": false,
    "nbgrader": {
     "cell_type": "markdown",
     "checksum": "729ce8cf7d365f1134c88e24c1148680",
     "grade": false,
     "grade_id": "cell-83673075bce888a9",
     "locked": true,
     "schema_version": 3,
     "solution": false,
     "task": false
    }
   },
   "source": [
    "# <span style=\"color:blue\">Task 3</span>"
   ]
  },
  {
   "cell_type": "markdown",
   "metadata": {
    "deletable": false,
    "editable": false,
    "nbgrader": {
     "cell_type": "markdown",
     "checksum": "2f6be5c596b414d04d2cc97f1c7f5dac",
     "grade": false,
     "grade_id": "cell-b5639db8c2b5b256",
     "locked": true,
     "schema_version": 3,
     "solution": false,
     "task": false
    }
   },
   "source": [
    "Read and implement the Principal Coordinate Analysis procedure from your textbook by writing the function `PCoA` which takes the following arguments:\n",
    "1. `SquaredDistances`: A numpy array which is square in shape, symmetric, and is the square of a distance matrix of some unknown set of points. The output of the `mean_image_squared_distances` function you wrote previously will be fed as this argument.\n",
    "\n",
    "2. `r`: This is the dimension of the visualization space, and corresponds to the same $r$ variable in the textbook procedure.\n",
    "\n",
    "Things to keep in mind:\n",
    "1. There is an erratum in the textbook's description of the PCoA procedure. There is a missing negative sign when computing the matrix $\\mathcal{W}$; the correct definition of $\\mathcal{W}$ is $\\mathcal{W}:=-\\frac{1}{2}\\mathcal{A}\\mathcal{D}^{(2)}\\mathcal{A}^T$.\n",
    "2. It is **vital** to make sure that eigenvalues are sorted as the textbook mentioned, and the eigenvectors are also ordered accordingly. Some decomposition functions such as `numpy`'s `np.linalg.eig` do not guarantee to return the eigenvalues and eigenvectors in any sorted way, and `np.linalg.eigh` guarantees to return them in ascending order; you will have to make sure they are sorted as the textbook says.\n",
    "\n",
    "**Note**: You should only use `np.linalg.eigh` for matrix factorization in this question since we're dealing with a symmetric matrix; do not use `np.linalg.eig`, `np.linalg.svd`, or any other matrix decomposition function in this question."
   ]
  },
  {
   "cell_type": "code",
   "execution_count": 16,
   "metadata": {
    "deletable": false
   },
   "outputs": [],
   "source": [
    "def PCoA(SquaredDistances, r=2):\n",
    "    assert SquaredDistances.shape[0] == SquaredDistances.shape[1]\n",
    "    num_points = SquaredDistances.shape[0]\n",
    "    \n",
    "    # your code here\n",
    "    \n",
    "    # amu p.124\n",
    "    N = SquaredDistances.shape[0]\n",
    "    A = np.identity(N) - 1 / N * np.ones((N, 1)) @ np.ones((N, 1)).T\n",
    "    W = -0.5 * A @ SquaredDistances @ A.T\n",
    "    eigval, eigvec = np.linalg.eigh(W)\n",
    "    # indices = np.argsort(eigval)[::-1]\n",
    "    # eigval = eigval[indices]\n",
    "    # eigvec = eigvec[:, indices]\n",
    "    eigval = eigval[::-1] #sort eigenvalues in descending order\n",
    "    eigvec = np.flip(eigvec, axis=1) #sort corresponding eigenvectors (column vectors) in descending order\n",
    "    S = np.sqrt(np.diag(eigval[:r]))\n",
    "    U = eigvec[:, :r]\n",
    "    # print(U.shape, S.shape)\n",
    "    \n",
    "    VT = U @ S\n",
    "    # raise NotImplementedError\n",
    "    \n",
    "    assert VT.shape[0] == num_points\n",
    "    assert VT.shape[1] == r\n",
    "    return VT"
   ]
  },
  {
   "cell_type": "code",
   "execution_count": 17,
   "metadata": {
    "deletable": false,
    "editable": false,
    "nbgrader": {
     "cell_type": "code",
     "checksum": "072bd3352ebc85b47ceddb47448b084c",
     "grade": false,
     "grade_id": "cell-d7d3990093159a2f",
     "locked": true,
     "schema_version": 3,
     "solution": false,
     "task": false
    }
   },
   "outputs": [],
   "source": [
    "# Performing sanity checks on your implementation\n",
    "some_data = ((np.arange(35).reshape(5,7) ** 13) % 20) / 7.\n",
    "some_dist = mean_image_squared_distances(some_data)\n",
    "some_pcoa = PCoA(some_dist, r=2)\n",
    "assert np.array_equal(some_pcoa.round(3), np.array([[-1.974,  0.421],\n",
    "                                                    [-1.285, -0.646],\n",
    "                                                    [ 1.98 , -1.137],\n",
    "                                                    [-0.091, -0.266],\n",
    "                                                    [ 1.369,  1.628]]))\n",
    "\n",
    "\n",
    "# Checking against the pre-computed test database\n",
    "test_results = test_case_checker(lambda *args, **kwargs: PCoA(*args, **kwargs).astype(np.complex128), task_id=3)\n",
    "assert test_results['passed'], test_results['message']"
   ]
  },
  {
   "cell_type": "code",
   "execution_count": 18,
   "metadata": {
    "deletable": false,
    "editable": false,
    "nbgrader": {
     "cell_type": "code",
     "checksum": "94124879684270c94b1e00a693d9e251",
     "grade": true,
     "grade_id": "cell-c4fef9a0e399e382",
     "locked": true,
     "points": 1,
     "schema_version": 3,
     "solution": false,
     "task": false
    }
   },
   "outputs": [],
   "source": [
    "# This cell is left empty as a seperator. You can leave this cell as it is, and you should not delete it.\n"
   ]
  },
  {
   "cell_type": "code",
   "execution_count": 19,
   "metadata": {
    "deletable": false,
    "editable": false,
    "nbgrader": {
     "cell_type": "code",
     "checksum": "9cce4b0d98cba738ff2e6656e3a707dd",
     "grade": false,
     "grade_id": "cell-766bbb58398e819c",
     "locked": true,
     "schema_version": 3,
     "solution": false,
     "task": false
    }
   },
   "outputs": [],
   "source": [
    "if perform_computation:\n",
    "    SquaredDistances = mean_image_squared_distances(class_means)\n",
    "    VT = PCoA(SquaredDistances, r=2)"
   ]
  },
  {
   "cell_type": "code",
   "execution_count": 20,
   "metadata": {
    "deletable": false,
    "editable": false,
    "nbgrader": {
     "cell_type": "code",
     "checksum": "7f88517b3f6be22f328ab13f7df4e74f",
     "grade": false,
     "grade_id": "cell-5195a280674f8907",
     "locked": true,
     "schema_version": 3,
     "solution": false,
     "task": false
    }
   },
   "outputs": [
    {
     "data": {
      "image/png": "[encoded data removed]",
      "text/plain": [
       "<Figure size 1080x720 with 1 Axes>"
      ]
     },
     "metadata": {
      "needs_background": "light"
     },
     "output_type": "display_data"
    }
   ],
   "source": [
    "if perform_computation:\n",
    "    class_names_list = sorted(list(class_to_idx.keys()))\n",
    "    fig, ax = plt.subplots(figsize=(9,6.), dpi=120)\n",
    "    x_components = VT[:,0]\n",
    "    y_components = VT[:,1]\n",
    "    sns.regplot(x=x_components, y=y_components, fit_reg=False, marker=\"*\", color=\"Blue\", ax=ax)\n",
    "    for class_idx in range(VT.shape[0]):\n",
    "        num_letters = len(class_names_list[class_idx])\n",
    "        ax.text(x_components[class_idx]-num_letters*15, y_components[class_idx]+25, \n",
    "                class_names_list[class_idx].capitalize(), \n",
    "                horizontalalignment='left', size='medium', color='black', weight='semibold')\n",
    "    ax.set_xlabel('Reconstructed Dimension 1')\n",
    "    ax.set_ylabel('Reconstructed Dimension 2')\n",
    "    _ = ax.set_title('PCoA on Mean CIFAR-10 Images')"
   ]
  },
  {
   "cell_type": "markdown",
   "metadata": {
    "deletable": false,
    "editable": false,
    "nbgrader": {
     "cell_type": "markdown",
     "checksum": "0553a100f41debb5f6b51108960eb647",
     "grade": false,
     "grade_id": "cell-e13c41e92aeef5c8",
     "locked": true,
     "schema_version": 3,
     "solution": false,
     "task": false
    }
   },
   "source": [
    "# 3. Generalized PCoA with Non-Metric Similarities"
   ]
  },
  {
   "cell_type": "markdown",
   "metadata": {
    "deletable": false,
    "editable": false,
    "nbgrader": {
     "cell_type": "markdown",
     "checksum": "0cf14a5691aa984827c9b43ec30a850c",
     "grade": false,
     "grade_id": "cell-45073e77364cb6b2",
     "locked": true,
     "schema_version": 3,
     "solution": false,
     "task": false
    }
   },
   "source": [
    "# <span style=\"color:blue\">Task 4</span>"
   ]
  },
  {
   "cell_type": "markdown",
   "metadata": {
    "deletable": false,
    "editable": false,
    "nbgrader": {
     "cell_type": "markdown",
     "checksum": "465767a5cfa51de198f4d0ad506b6f59",
     "grade": false,
     "grade_id": "cell-6c1b006486a031c6",
     "locked": true,
     "schema_version": 3,
     "solution": false,
     "task": false
    }
   },
   "source": [
    "Write a function `principal_components_precise_svd` that returns the principal components of a data matrix and takes the following arguments as input\n",
    "\n",
    "1. `data_raw`: a numpy array with the shape $(N, \\cdots)$, where $N$ is the number of samples, and there may be many excess dimensions denoted by $\\cdots$. You will have to reshape this input `data_raw` matrix to obtain a shape of $(N, d)$, where $d$ is the vectorized data's dimension. For example, `data_raw` could have an input shape of `(6000, 50, 50, 3)`. In this case you will have to reshape the input data to have a shape of `(6000, 7500)`.\n",
    "2. `num_components`: This is the number of PCA components that we want to retain. This variable is denoted by $r$ in the PCA definition in the textbook.\n",
    "\n",
    "and returns the variable `V_x` which is a numpy array with the shape `(d, num_components)`. The columns are the unitay principal components sorted descendingly with respect to the eigenvalues.\n",
    "\n",
    "**Important Note**: **Do not** try to recover the covariance matrix $\\Sigma$ and then find its eigenvalues. This can prove to be both inefficient and unnecessary. As the theoretical review before the first task concluded, **There is no need to compute the covariance matrix $\\Sigma$**. Instead, all you need to do is to find the SVD of the data matrix, and extract the principal components from it.\n",
    "\n",
    "**Important Note**: Do not use any matrix factorization function other than `np.linalg.svd` for this task; incorporating any other matrix factorization function (such as `np.linalg.eig`) may not be compatible with the results we expect and may even be inefficient."
   ]
  },
  {
   "cell_type": "code",
   "execution_count": 21,
   "metadata": {
    "deletable": false
   },
   "outputs": [],
   "source": [
    "def principal_components_precise_svd(data_raw, num_components=20):\n",
    "    # your code here\n",
    "    \n",
    "    N = data_raw.shape[0]\n",
    "    d = data_raw.size / N\n",
    "    data_reshaped = data_raw.reshape((N, -1))\n",
    "    data_recentered = data_reshaped - data_reshaped.mean(axis=0)\n",
    "\n",
    "    u, s, vt = np.linalg.svd(data_recentered)\n",
    "    V_x = vt[:num_components][:].T\n",
    "    assert V_x.shape == (d, num_components)\n",
    "    # raise NotImplementedError\n",
    "    \n",
    "    assert V_x.ndim==2\n",
    "    # Don't mind/change the following lines. \n",
    "    # This is for mitigating the ambiguity up to -/+1 factor in PCs.\n",
    "    # (i.e., if x is a unitary PC, then -x is also a unitary PC).\n",
    "    # We multiply each column by the sign of the largest element (in absolute value) of that column\n",
    "    sign_unambiguity = np.sign(V_x[np.abs(V_x).argmax(axis=0), np.arange(V_x.shape[1])]).reshape(1,-1)\n",
    "    V_x *= sign_unambiguity\n",
    "    return V_x"
   ]
  },
  {
   "cell_type": "code",
   "execution_count": 22,
   "metadata": {
    "deletable": false,
    "editable": false,
    "nbgrader": {
     "cell_type": "code",
     "checksum": "42d0f6845a83e7e9486777eda9ae5157",
     "grade": false,
     "grade_id": "cell-c834095575645168",
     "locked": true,
     "schema_version": 3,
     "solution": false,
     "task": false
    }
   },
   "outputs": [],
   "source": [
    "# Performing sanity checks on your implementation\n",
    "some_data = (np.arange(35).reshape(5,7) ** 13) % 20\n",
    "some_pcs = principal_components_precise_svd(some_data, num_components=2)\n",
    "assert np.array_equal(some_pcs.round(3), np.array([[-0.123, -0.114],\n",
    "                                                   [-0.43 ,  0.119],\n",
    "                                                   [-0.021,  0.41 ],\n",
    "                                                   [-0.603, -0.164],\n",
    "                                                   [ 0.084,  0.491],\n",
    "                                                   [-0.223,  0.724],\n",
    "                                                   [ 0.616,  0.109]]))\n",
    "\n",
    "\n",
    "# Checking against the pre-computed test database\n",
    "test_results = test_case_checker(principal_components_precise_svd, task_id=4)\n",
    "assert test_results['passed'], test_results['message']"
   ]
  },
  {
   "cell_type": "code",
   "execution_count": 23,
   "metadata": {
    "deletable": false,
    "editable": false,
    "nbgrader": {
     "cell_type": "code",
     "checksum": "0e3f07abed0cfa9e7b940a438eee7b2f",
     "grade": true,
     "grade_id": "cell-64b9940549a5aa49",
     "locked": true,
     "points": 1,
     "schema_version": 3,
     "solution": false,
     "task": false
    }
   },
   "outputs": [],
   "source": [
    "# This cell is left empty as a seperator. You can leave this cell as it is, and you should not delete it.\n"
   ]
  },
  {
   "cell_type": "markdown",
   "metadata": {
    "deletable": false,
    "editable": false,
    "nbgrader": {
     "cell_type": "markdown",
     "checksum": "5ccd42490e1b1d2e2134d21e1418189d",
     "grade": false,
     "grade_id": "cell-03e5fd29334d0960",
     "locked": true,
     "schema_version": 3,
     "solution": false,
     "task": false
    }
   },
   "source": [
    "The following cell will run your `principal_components_precise_svd` function on a single class of data, and provide you with some running time estimate."
   ]
  },
  {
   "cell_type": "code",
   "execution_count": 24,
   "metadata": {
    "deletable": false,
    "editable": false,
    "nbgrader": {
     "cell_type": "code",
     "checksum": "cc1e48a9274859c2c3cfac79dd328a02",
     "grade": false,
     "grade_id": "cell-ad1a7abeaa5e7889",
     "locked": true,
     "schema_version": 3,
     "solution": false,
     "task": false
    }
   },
   "outputs": [
    {
     "name": "stdout",
     "output_type": "stream",
     "text": [
      "Finding the principal components on a single class took 22.047 seconds.\n"
     ]
    }
   ],
   "source": [
    "if perform_computation:\n",
    "    first_class_features = images_raw[labels == 0, :, :, :]\n",
    "\n",
    "    starting_time = time.time()\n",
    "    first_class_pcs = principal_components_precise_svd(first_class_features, num_components=20)\n",
    "    end_time = time.time()\n",
    "    \n",
    "    print('Finding the principal components on a single class took %.3f seconds.'%(end_time-starting_time))"
   ]
  },
  {
   "cell_type": "markdown",
   "metadata": {
    "deletable": false,
    "editable": false,
    "nbgrader": {
     "cell_type": "markdown",
     "checksum": "5390f424cdf840740cb5439eda830fe5",
     "grade": false,
     "grade_id": "cell-3cf56b1cf2ee6d60",
     "locked": true,
     "schema_version": 3,
     "solution": false,
     "task": false
    }
   },
   "source": [
    "Although, this performance is extremely hardware-dependent, it's certainly not negligible. Keep in mind that we will have to run this function about 100 times on data of the same size to construct a similarity matrix in later tasks; any speedup may very well be appreciated.\n",
    "\n",
    "Most of the computation time in the previous task was spent on the SVD factorization. Essentially, we found all the singular values and directions, ignored most of them, and only kept the top 20. This can be a very good place to start saving on computation; if only there was an SVD variant which you could tell in advance that you're only interested in the top 20 components, so that it wouldn't waste your time computing non-important singular values and directions...\n",
    "\n",
    "**Spoiler Alert**: Such an efficient SVD variant exists, and sometimes is referred to as the \"Truncated SVD\" in application. Next task will be a redo of the previous task using this fast factroization."
   ]
  },
  {
   "cell_type": "markdown",
   "metadata": {
    "deletable": false,
    "editable": false,
    "nbgrader": {
     "cell_type": "markdown",
     "checksum": "d9950a0005c770806048c31ccd41b4a3",
     "grade": false,
     "grade_id": "cell-92ea31a8dd5fac86",
     "locked": true,
     "schema_version": 3,
     "solution": false,
     "task": false
    }
   },
   "source": [
    "# <span style=\"color:blue\">Task 5</span>"
   ]
  },
  {
   "cell_type": "markdown",
   "metadata": {
    "deletable": false,
    "editable": false,
    "nbgrader": {
     "cell_type": "markdown",
     "checksum": "8cd34016864ebbf1ca6937a1dd3b7889",
     "grade": false,
     "grade_id": "cell-6f00c2432ef3c598",
     "locked": true,
     "schema_version": 3,
     "solution": false,
     "task": false
    }
   },
   "source": [
    "Similar to `principal_components_precise_svd`, write a function `principal_components` that uses `scikit-learn`'s `TruncatedSVD` decomposition instead of the precise `np.linalg.svd` decomposition that was used in the previous task. As in the previous task, `principal_components` should return the principal components of a data matrix and take the following arguments as input\n",
    "\n",
    "1. `data_raw`: a numpy array with the shape $(N, \\cdots)$, where $N$ is the number of samples, and there may be many excess dimensions denoted by $\\cdots$. You will have to reshape this input `data_raw` matrix to obtain a shape of $(N, d)$, where $d$ is the vectorized data's dimension. For example, `data_raw` could have an input shape of `(6000, 50, 50, 3)`. In this case you will have to reshape the input data to have a shape of `(6000, 7500)`.\n",
    "2. `num_components`: This is the number of PCA components that we want to retain. This variable is denoted by $r$ in the PCA definition in the textbook.\n",
    "\n",
    "`principal_components` should return the variable `V_x` which is a numpy array with the shape `(d, num_components)`. The columns are the unitay principal components sorted descendingly with respect to the eigenvalues.\n",
    "\n",
    "**Important Note**: You should only use `scikit-learn`'s `TruncatedSVD` decomposition for this task. You can read about this function at https://scikit-learn.org/stable/modules/generated/sklearn.decomposition.TruncatedSVD.html. \n",
    "\n",
    "  * You must use the `randomized` algorithm implementation as it is more efficient. \n",
    "  \n",
    "  * Since this heuristic is stochastic, you must provide `random_state=12345` as an input argument to this object's constructor for reproducibility. \n",
    "  \n",
    "  * Use exactly 5 iterations for this heuristic (i.e., specify `n_iter` to be exactly 5).\n",
    "\n",
    "**Important Note**: **Do not** try to recover the covariance matrix $\\Sigma$ and then find its eigenvalues. This can prove to be both inefficient and unnecessary. As the theoretical review before the first task concluded, **There is no need to compute the covariance matrix $\\Sigma$**. Instead, all you need to do is to find the SVD of the data matrix, and extract the principal components from it."
   ]
  },
  {
   "cell_type": "code",
   "execution_count": 25,
   "metadata": {
    "deletable": false
   },
   "outputs": [],
   "source": [
    "def principal_components(data_raw, num_components=20):\n",
    "    \n",
    "    # your code here\n",
    "    N = data_raw.shape[0]\n",
    "    data_reshaped = data_raw.reshape((N, -1))\n",
    "    data_recentered = data_reshaped - data_reshaped.mean(axis=0)\n",
    "    \n",
    "    svd = TruncatedSVD(n_components=num_components, algorithm='randomized', n_iter=5, random_state=12345)\n",
    "    svd.fit(data_recentered)\n",
    "    V_x = svd.components_.T\n",
    "    # raise NotImplementedError\n",
    "    \n",
    "    assert V_x.ndim==2\n",
    "    # Don't mind/change the following lines. \n",
    "    # This is for mitigating the ambiguity up to -/+1 factor in PCs.\n",
    "    # (i.e., if x is a unitary PC, then -x is also a unitary PC).\n",
    "    # We multiply each column by the sign of the largest element (in absolute value) of that column\n",
    "    sign_unambiguity = np.sign(V_x[np.abs(V_x).argmax(axis=0), np.arange(V_x.shape[1])]).reshape(1,-1)\n",
    "    V_x *= sign_unambiguity\n",
    "    return V_x"
   ]
  },
  {
   "cell_type": "code",
   "execution_count": 26,
   "metadata": {
    "deletable": false,
    "editable": false,
    "nbgrader": {
     "cell_type": "code",
     "checksum": "1404ee01306fffa4402277f41cdfcf07",
     "grade": false,
     "grade_id": "cell-0207525fb2a41dee",
     "locked": true,
     "schema_version": 3,
     "solution": false,
     "task": false
    }
   },
   "outputs": [],
   "source": [
    "# Performing sanity checks on your implementation\n",
    "some_data = (np.arange(35).reshape(5,7) ** 13) % 20\n",
    "some_pcs = principal_components(some_data, num_components=2)\n",
    "assert np.array_equal(some_pcs.round(3), np.array([[-0.123, -0.114],\n",
    "                                                   [-0.43 ,  0.119],\n",
    "                                                   [-0.021,  0.41 ],\n",
    "                                                   [-0.603, -0.164],\n",
    "                                                   [ 0.084,  0.491],\n",
    "                                                   [-0.223,  0.724],\n",
    "                                                   [ 0.616,  0.109]]))\n",
    "\n",
    "# Checking against the pre-computed test database\n",
    "test_results = test_case_checker(principal_components, task_id=5)\n",
    "assert test_results['passed'], test_results['message']"
   ]
  },
  {
   "cell_type": "code",
   "execution_count": 27,
   "metadata": {
    "deletable": false,
    "editable": false,
    "nbgrader": {
     "cell_type": "code",
     "checksum": "7663bddfc3e1a6ee4396e1e087e0a4a6",
     "grade": true,
     "grade_id": "cell-6e98fde20752df8c",
     "locked": true,
     "points": 1,
     "schema_version": 3,
     "solution": false,
     "task": false
    }
   },
   "outputs": [],
   "source": [
    "# This cell is left empty as a seperator. You can leave this cell as it is, and you should not delete it.\n"
   ]
  },
  {
   "cell_type": "code",
   "execution_count": 28,
   "metadata": {
    "deletable": false,
    "editable": false,
    "nbgrader": {
     "cell_type": "code",
     "checksum": "4984b26a80b62f01306b0e0dc1fece52",
     "grade": false,
     "grade_id": "cell-dfdb7e15c255b595",
     "locked": true,
     "schema_version": 3,
     "solution": false,
     "task": false
    }
   },
   "outputs": [
    {
     "name": "stdout",
     "output_type": "stream",
     "text": [
      "Finding the principal components on a single class took 0.873 seconds.\n"
     ]
    }
   ],
   "source": [
    "if perform_computation:\n",
    "    first_class_features = images_raw[labels == 0, :, :, :]\n",
    "\n",
    "    starting_time = time.time()\n",
    "    first_class_pcs = principal_components(first_class_features, num_components=20)\n",
    "    end_time = time.time()\n",
    "    \n",
    "    print('Finding the principal components on a single class took %.3f seconds.'%(end_time-starting_time))"
   ]
  },
  {
   "cell_type": "markdown",
   "metadata": {
    "deletable": false,
    "editable": false,
    "nbgrader": {
     "cell_type": "markdown",
     "checksum": "67801bee38ccbd26a55a791ef013dd77",
     "grade": false,
     "grade_id": "cell-f84fa9de42efe575",
     "locked": true,
     "schema_version": 3,
     "solution": false,
     "task": false
    }
   },
   "source": [
    "Using this `principal_components` function, and the `images_raw` array, you could reconstruct an arbitrary image using a small number of components, see the effect of the number of components on the reconstructed image's quality, and share your results on Piazza!"
   ]
  },
  {
   "cell_type": "markdown",
   "metadata": {
    "deletable": false,
    "editable": false,
    "nbgrader": {
     "cell_type": "markdown",
     "checksum": "ba0ba39a91dc34f0914b34fff5c801c7",
     "grade": false,
     "grade_id": "cell-b16bc6406faa0e40",
     "locked": true,
     "schema_version": 3,
     "solution": false,
     "task": false
    }
   },
   "source": [
    "# <span style=\"color:blue\">Task 6</span>"
   ]
  },
  {
   "cell_type": "markdown",
   "metadata": {
    "deletable": false,
    "editable": false,
    "nbgrader": {
     "cell_type": "markdown",
     "checksum": "2fcfad296d8991ec540097c118d07cdc",
     "grade": false,
     "grade_id": "cell-f28109df1d337200",
     "locked": true,
     "schema_version": 3,
     "solution": false,
     "task": false
    }
   },
   "source": [
    "Write the function `E_A_given_B` that computes the $E[A|B]$ and takes the two matrices `class_A_data` and `class_B_data`. \n",
    "\n",
    "1. `class_A_data` is a numpy arrays with the shape $(N, \\cdots)$, where $N$ is the number of samples, and there may be many excess dimensions denoted by $\\cdots$. You will have to reshape this input matrix to obtain a shape of $(N, d)$, where $d$ is the vectorized data's dimension.\n",
    "2. `class_B_data` has the same data structure as `class_A_data`.\n",
    "\n",
    "To compute $E[A|B]$:\n",
    "1. First, do whatever reshaping you have to do.\n",
    "2. Subtract Class A's mean from its data\n",
    "3. Use the `principal_components` function you wrote before to extract the 20 principal components of `class_B_data`.\n",
    "4. Project Class A's data onto the mentioned principal components and get back to the original space.\n",
    "5. Compute Class A's residuals (i.e., the difference between the original and the projection).\n",
    "5. Find the squared residual sizes **for each sample**, and then return their mean as the `E_A_cond_B` scalar. In other words, square class A's residuals, sum them over each sample (which should reduce the squared residual matrix to only $N$ elements), and then report the mean of them as `E_A_cond_B`."
   ]
  },
  {
   "cell_type": "code",
   "execution_count": 29,
   "metadata": {
    "deletable": false
   },
   "outputs": [],
   "source": [
    "def E_A_given_B(class_A_data, class_B_data):\n",
    "    \n",
    "    # your code here\n",
    "    \n",
    "    N = class_A_data.shape[0]\n",
    "    class_A_data_reshaped = class_A_data.reshape((N, -1))\n",
    "    class_A_data_recentered = class_A_data_reshaped - class_A_data_reshaped.mean(axis=0)\n",
    "    \n",
    "    class_B_data_reshaped = class_B_data.reshape((N, -1))\n",
    "    class_B_data_recentered = class_B_data_reshaped - class_B_data_reshaped.mean(axis=0)\n",
    "    \n",
    "    pcs = principal_components(class_B_data, num_components=20)\n",
    "    # print(class_A_data_recentered.shape, pcs.shape, class_B_data.shape)\n",
    "    projection = class_A_data_recentered @ pcs\n",
    "    inv_projection = projection @ np.linalg.pinv(pcs)\n",
    "    assert inv_projection.shape == class_A_data_recentered.shape\n",
    "    \n",
    "    residuals = class_A_data_recentered - inv_projection\n",
    "    E_A_cond_B = np.mean(np.sum(np.square(residuals), axis=1))\n",
    "    # raise NotImplementedError\n",
    "    \n",
    "    return E_A_cond_B"
   ]
  },
  {
   "cell_type": "code",
   "execution_count": 30,
   "metadata": {
    "deletable": false,
    "editable": false,
    "nbgrader": {
     "cell_type": "code",
     "checksum": "2b0095bf0dbc736ccbda9ee02c310684",
     "grade": false,
     "grade_id": "cell-997a3e94046cc151",
     "locked": true,
     "schema_version": 3,
     "solution": false,
     "task": false
    }
   },
   "outputs": [],
   "source": [
    "# Performing sanity checks on your implementation\n",
    "some_data = ((np.arange(35).reshape(5,7) ** 13) % 20) / 7.\n",
    "some_data = np.repeat(some_data, 8, axis=1)\n",
    "some_E = E_A_given_B(some_data, (some_data**1.02))\n",
    "assert some_E.round(3)==0.001\n",
    "\n",
    "# Checking against the pre-computed test database\n",
    "test_results = test_case_checker(E_A_given_B, task_id=6)\n",
    "assert test_results['passed'], test_results['message']"
   ]
  },
  {
   "cell_type": "code",
   "execution_count": 31,
   "metadata": {
    "deletable": false,
    "editable": false,
    "nbgrader": {
     "cell_type": "code",
     "checksum": "674e61dce2a80fdb50fedbaa5a3cd887",
     "grade": true,
     "grade_id": "cell-2237ce73129524a8",
     "locked": true,
     "points": 1,
     "schema_version": 3,
     "solution": false,
     "task": false
    }
   },
   "outputs": [],
   "source": [
    "# This cell is left empty as a seperator. You can leave this cell as it is, and you should not delete it.\n"
   ]
  },
  {
   "cell_type": "code",
   "execution_count": 32,
   "metadata": {
    "deletable": false,
    "editable": false,
    "nbgrader": {
     "cell_type": "code",
     "checksum": "a395f2e365d3e286a79f108b4d03f89b",
     "grade": true,
     "grade_id": "cell-e5b775925a574a1a",
     "locked": true,
     "points": 0,
     "schema_version": 3,
     "solution": false,
     "task": false
    }
   },
   "outputs": [],
   "source": [
    "# This cell is left empty as a seperator. You can leave this cell as it is, and you should not delete it.\n"
   ]
  },
  {
   "cell_type": "code",
   "execution_count": 33,
   "metadata": {
    "deletable": false,
    "editable": false,
    "nbgrader": {
     "cell_type": "code",
     "checksum": "fbe68400369dff27a31d7ef4fad474a8",
     "grade": false,
     "grade_id": "cell-5b8c4f72e0beea08",
     "locked": true,
     "schema_version": 3,
     "solution": false,
     "task": false
    }
   },
   "outputs": [
    {
     "name": "stdout",
     "output_type": "stream",
     "text": [
      "Row 0 (This row took 2.678 seconds to finish)\n",
      "Row 1 (This row took 5.036 seconds to finish)\n",
      "Row 2 (This row took 7.539 seconds to finish)\n",
      "Row 3 (This row took 10.234 seconds to finish)\n",
      "Row 4 (This row took 12.537 seconds to finish)\n",
      "Row 5 (This row took 15.217 seconds to finish)\n",
      "Row 6 (This row took 17.709 seconds to finish)\n",
      "Row 7 (This row took 20.250 seconds to finish)\n",
      "Row 8 (This row took 22.665 seconds to finish)\n",
      "Row 9 (This row took 25.788 seconds to finish)\n"
     ]
    }
   ],
   "source": [
    "if perform_computation:\n",
    "    num_classes = class_means.shape[0]\n",
    "    SimilarityMatrix = np.zeros((num_classes, num_classes))\n",
    "    for row in range(num_classes):\n",
    "        print(f'Row {row}', end='')\n",
    "        row_st_time = time.time()\n",
    "        for col in range(row+1):\n",
    "            class_A_data = images_raw[labels == row, :, :, :]\n",
    "            class_B_data = images_raw[labels == col, :, :, :]\n",
    "            E_A_cond_B = E_A_given_B(class_A_data, class_B_data)\n",
    "            E_B_cond_A = E_A_given_B(class_B_data, class_A_data)\n",
    "            SimilarityMatrix[col, row] = (E_A_cond_B + E_B_cond_A)/2.\n",
    "            SimilarityMatrix[row, col] = (E_A_cond_B + E_B_cond_A)/2.\n",
    "        print(f' (This row took %.3f seconds to finish)'%(time.time() - row_st_time))"
   ]
  },
  {
   "cell_type": "code",
   "execution_count": 34,
   "metadata": {
    "deletable": false,
    "editable": false,
    "nbgrader": {
     "cell_type": "code",
     "checksum": "fe1768faed4c12110f6ca98ce00c0244",
     "grade": true,
     "grade_id": "cell-ce632ea38432e3c4",
     "locked": true,
     "points": 0,
     "schema_version": 3,
     "solution": false,
     "task": false
    }
   },
   "outputs": [],
   "source": [
    "# This cell is left empty as a seperator. You can leave this cell as it is, and you should not delete it.\n"
   ]
  },
  {
   "cell_type": "markdown",
   "metadata": {
    "deletable": false,
    "editable": false,
    "nbgrader": {
     "cell_type": "markdown",
     "checksum": "50a73fec306ac8b73cbd6c4c2bf7b188",
     "grade": false,
     "grade_id": "cell-e1370af64e9e2a25",
     "locked": true,
     "schema_version": 3,
     "solution": false,
     "task": false
    }
   },
   "source": [
    "If you apply any general `SimilarityMatrix` variable to the previously defined `PCoA` function, you may get `NaN` entries due to the fact that they may not generally be a metric distance matrix (i.e., having non-zero diagonal elements and the triangle inequality not alway holding).\n",
    "\n",
    "This issue can be best seen when having a similarity measure that is extremely uneven (i.e., when the small entries are extremely small and the large entries are extremely large). This will make it difficult for the triangle inequality to hold. It is a good idea to ammend the PCoA in a way that can deal with such non-metric similarity measures."
   ]
  },
  {
   "cell_type": "code",
   "execution_count": 35,
   "metadata": {
    "deletable": false,
    "editable": false,
    "nbgrader": {
     "cell_type": "code",
     "checksum": "3da0ab82de3f3bc46874b328d0a4a3e1",
     "grade": false,
     "grade_id": "cell-522ec2f452d22a94",
     "locked": true,
     "schema_version": 3,
     "solution": false,
     "task": false
    }
   },
   "outputs": [
    {
     "data": {
      "text/plain": [
       "array([[-1.19122359e+131, -1.01273169e+131, -6.64858390e+129,\n",
       "        -8.41498165e+128,  6.80474873e+123,              nan,\n",
       "                     nan,              nan,              nan,\n",
       "                     nan],\n",
       "       [-1.89955534e+132, -2.69508986e+131, -2.99388280e+126,\n",
       "        -2.89402217e+125,  6.80474873e+123,              nan,\n",
       "                     nan,              nan,              nan,\n",
       "                     nan],\n",
       "       [-1.22403442e+131, -5.41618003e+130,  1.22455240e+129,\n",
       "         1.03543307e+129,  6.80474874e+123,              nan,\n",
       "                     nan,              nan,              nan,\n",
       "                     nan],\n",
       "       [ 1.13544520e+131,  2.36886946e+130,  1.23040415e+129,\n",
       "        -1.24137369e+129,  6.80474873e+123,              nan,\n",
       "                     nan,              nan,              nan,\n",
       "                     nan],\n",
       "       [-1.29411460e+131, -5.17027543e+130,  2.17747099e+129,\n",
       "         2.70985016e+129,  6.80474873e+123,              nan,\n",
       "                     nan,              nan,              nan,\n",
       "                     nan],\n",
       "       [ 1.16044578e+132,  2.11801847e+131, -8.28870879e+128,\n",
       "         2.11454136e+128,  6.80474873e+123,              nan,\n",
       "                     nan,              nan,              nan,\n",
       "                     nan],\n",
       "       [-1.23537602e+131, -5.69470418e+130, -1.66781093e+129,\n",
       "         6.27233461e+128,  6.80474873e+123,              nan,\n",
       "                     nan,              nan,              nan,\n",
       "                     nan],\n",
       "       [ 1.44463768e+132, -4.45826856e+131,  5.30470459e+128,\n",
       "         1.67460728e+127,  6.80474873e+123,              nan,\n",
       "                     nan,              nan,              nan,\n",
       "                     nan],\n",
       "       [-1.29378744e+131, -5.39706922e+130,  3.97620683e+129,\n",
       "        -2.52086520e+129,  6.80474873e+123,              nan,\n",
       "                     nan,              nan,              nan,\n",
       "                     nan],\n",
       "       [-1.95219037e+131,  7.97900759e+131,  9.15476862e+126,\n",
       "         3.30955788e+126,  6.80474873e+123,              nan,\n",
       "                     nan,              nan,              nan,\n",
       "                     nan]])"
      ]
     },
     "execution_count": 35,
     "metadata": {},
     "output_type": "execute_result"
    }
   ],
   "source": [
    "VT = None\n",
    "if perform_computation:\n",
    "    VT = PCoA(SimilarityMatrix**40, r=10)\n",
    "VT"
   ]
  },
  {
   "cell_type": "markdown",
   "metadata": {
    "deletable": false,
    "editable": false,
    "nbgrader": {
     "cell_type": "markdown",
     "checksum": "d428472eb7fe25a4bcd9b5a378164d71",
     "grade": false,
     "grade_id": "cell-4c656ee8236e6df1",
     "locked": true,
     "schema_version": 3,
     "solution": false,
     "task": false
    }
   },
   "source": [
    "# <span style=\"color:blue\">Task 7</span>"
   ]
  },
  {
   "cell_type": "markdown",
   "metadata": {
    "deletable": false,
    "editable": false,
    "nbgrader": {
     "cell_type": "markdown",
     "checksum": "91e04f80cb89ac1f6818e1208f8b3c5e",
     "grade": false,
     "grade_id": "cell-6b29bc6b947d16ce",
     "locked": true,
     "schema_version": 3,
     "solution": false,
     "task": false
    }
   },
   "source": [
    "Write the function `Lingoes_PreProcessing` that does some pre-processing to the `SimilarityMatrix` to make it have the Euclidean property and the triangles to close.\n",
    "\n",
    "Here is a very brief and to the point description from the r documentation page (https://www.rdocumentation.org/packages/ape/versions/5.2/topics/pcoa).\n",
    "\n",
    "\"In the Lingoes (1971) procedure, a constant c1, equal to twice absolute value of the largest negative eigenvalue of the original principal coordinate analysis, is added to each original squared distance in the distance matrix, except the diagonal values. A newe principal coordinate analysis, performed on the modified distances, has at most (n-2) positive eigenvalues, at least 2 null eigenvalues, and no negative eigenvalue.\"\n",
    "\n",
    "If you're interested, you can read more about correction for negative eigenvalues in http://biol09.biol.umontreal.ca/PLcourses/Ordination_sections_1.3+1.4_PCoA_Eng.pdf.\n",
    "\n",
    "The function `Lingoes_PreProcessing` takes the numpy array `SimilarityMatrix` as input, and returns `ProcessedSimilarityMatrix` based on the following condition:\n",
    "1. If all eigenvalues computed during PCoA are non-negative, then `ProcessedSimilarityMatrix` should be the same as the `SimilarityMatrix`.\n",
    "2. Otherwise, follow the instructions to perform the Lingoes correction on the `SimilarityMatrix` and return `ProcessedSimilarityMatrix`.\n",
    "\n",
    "In other words, this is what you're supposed to do:\n",
    "  1. Perform the PCoA analysis on `SimilarityMatrix` right up to the point where you find the eigenvalues. Do not go any further. More precisely, you should only find the eigenvalues of the matrix $\\mathcal{W}$ corresponding to `SimilarityMatrix` in the PCoA analysis.\n",
    "  2. Find the minimum eigenvalue and call it $\\lambda_{\\min}$.\n",
    "  3. If $\\lambda_{\\min}\\geq 0$, then stop and return `SimilarityMatrix` as it was without any change.\n",
    "  4. If $\\lambda_{\\min} < 0$, then add  $2|\\lambda_{\\min}|$ to all the non-diagonal elements of `SimilarityMatrix` and return the resulting matrix.\n",
    "\n",
    "**Important Note**: **Do not call the `PCoA` function on `SimilarityMatrix`**. You should not call the whole `PCoA` function on `SimilarityMatrix`, as you do not care about the output reconstructions of `PCoA`. Instead, you need the eigenvalues for further processing, which are not returned by the `PCoA` function.\n",
    "\n",
    "**Note**: You do not need a `for` loop for adding a scalar to the non-diagonal elements of a matrix; you can add the scalar to all the elements of the matrix, and then subtract it from the same scalar multiple of the identity matrix (i.e., using a function like `np.eye` for instance)."
   ]
  },
  {
   "cell_type": "code",
   "execution_count": 36,
   "metadata": {
    "deletable": false
   },
   "outputs": [],
   "source": [
    "def Lingoes_PreProcessing(SimilarityMatrix):\n",
    "    \n",
    "    assert SimilarityMatrix.shape[0] == SimilarityMatrix.shape[1]\n",
    "    num_points = SimilarityMatrix.shape[0]\n",
    "    \n",
    "    # your code here\n",
    "    \n",
    "    N = SimilarityMatrix.shape[0]\n",
    "    A = np.identity(N) - 1 / N * np.ones((N, 1)) @ np.ones((N, 1)).T\n",
    "    W = -0.5 * A @ SimilarityMatrix @ A.T\n",
    "    eigval, eigvec = np.linalg.eigh(W)\n",
    "    lam_min = eigval[0]\n",
    "    '''\n",
    "    if lam_min >= 0:\n",
    "        ProcessedSimilarityMatrix = SimilarityMatrix\n",
    "    else:\n",
    "        ProcessedSimilarityMatrix = SimilarityMatrix + 2 * abs(lam_min) - 2 * abs(lam_min) * np.identity(N)\n",
    "    '''\n",
    "    ProcessedSimilarityMatrix = SimilarityMatrix if lam_min >= 0 else SimilarityMatrix + 2 * abs(lam_min) - 2 * abs(lam_min) * np.identity(N)\n",
    "    # raise NotImplementedError\n",
    "    \n",
    "    return ProcessedSimilarityMatrix"
   ]
  },
  {
   "cell_type": "code",
   "execution_count": 37,
   "metadata": {
    "deletable": false,
    "editable": false,
    "nbgrader": {
     "cell_type": "code",
     "checksum": "695e31f46d5e0678bea982d83d896bf2",
     "grade": false,
     "grade_id": "cell-9339ec3519b1da49",
     "locked": true,
     "schema_version": 3,
     "solution": false,
     "task": false
    }
   },
   "outputs": [],
   "source": [
    "# Performing sanity checks on your implementation\n",
    "some_data = ((np.arange(35).reshape(5,7) ** 13) % 20) / 7.\n",
    "some_dist = mean_image_squared_distances(some_data)**5.\n",
    "some_lingoes = Lingoes_PreProcessing(some_dist)\n",
    "assert np.array_equal(some_lingoes.round(1), np.array([[      0. ,  898987.1, 2896177.9,  936570.7, 1442744.7],\n",
    "                                                       [ 898987.1,       0. , 1229280.9,  897958.5, 1208489.7],\n",
    "                                                       [2896177.9, 1229280.9,       0. ,  944977.4,  947878.7],\n",
    "                                                       [ 936570.7,  897958.5,  944977.4,       0. ,  920604.3],\n",
    "                                                       [1442744.7, 1208489.7,  947878.7,  920604.3,       0. ]]))\n",
    "\n",
    "# Checking against the pre-computed test database\n",
    "test_results = test_case_checker(Lingoes_PreProcessing, task_id=7)\n",
    "assert test_results['passed'], test_results['message']"
   ]
  },
  {
   "cell_type": "code",
   "execution_count": 38,
   "metadata": {
    "deletable": false,
    "editable": false,
    "nbgrader": {
     "cell_type": "code",
     "checksum": "b34dadf943520175c6dfa8f707fec7a0",
     "grade": true,
     "grade_id": "cell-5731507df5e8d4be",
     "locked": true,
     "points": 1,
     "schema_version": 3,
     "solution": false,
     "task": false
    }
   },
   "outputs": [],
   "source": [
    "# This cell is left empty as a seperator. You can leave this cell as it is, and you should not delete it.\n"
   ]
  },
  {
   "cell_type": "code",
   "execution_count": 39,
   "metadata": {
    "deletable": false,
    "editable": false,
    "nbgrader": {
     "cell_type": "code",
     "checksum": "cc2f51649ebb66d05278d88db66de921",
     "grade": false,
     "grade_id": "cell-6d75ae60eb8f6aaa",
     "locked": true,
     "schema_version": 3,
     "solution": false,
     "task": false
    }
   },
   "outputs": [],
   "source": [
    "def PCoA_lingoes(SimilarityMatrix, r=2):\n",
    "    ProcessedSimilarityMatrix = Lingoes_PreProcessing(SimilarityMatrix)\n",
    "    return PCoA(ProcessedSimilarityMatrix, r=r)"
   ]
  },
  {
   "cell_type": "code",
   "execution_count": 40,
   "metadata": {
    "deletable": false,
    "editable": false,
    "nbgrader": {
     "cell_type": "code",
     "checksum": "80dc700478f75480da34b5dff994bedc",
     "grade": false,
     "grade_id": "cell-5d9a5c4eda000df6",
     "locked": true,
     "schema_version": 3,
     "solution": false,
     "task": false
    }
   },
   "outputs": [
    {
     "data": {
      "text/plain": [
       "array([[-119.98786571,  355.24236881],\n",
       "       [-407.7649715 , -194.47481966],\n",
       "       [ 200.74413716,   69.91510988],\n",
       "       [ 228.74930337, -150.11666377],\n",
       "       [  34.48668888,  156.6042217 ],\n",
       "       [ 343.06053853, -112.88238769],\n",
       "       [ 112.75711242,  -44.2970879 ],\n",
       "       [ 147.41580395,   23.49865708],\n",
       "       [-290.00131424,  180.85368172],\n",
       "       [-249.45943287, -284.34308017]])"
      ]
     },
     "execution_count": 40,
     "metadata": {},
     "output_type": "execute_result"
    }
   ],
   "source": [
    "VT = None\n",
    "if perform_computation:\n",
    "    VT = PCoA_lingoes(SimilarityMatrix, r=2)\n",
    "VT    "
   ]
  },
  {
   "cell_type": "code",
   "execution_count": 41,
   "metadata": {
    "deletable": false,
    "editable": false,
    "nbgrader": {
     "cell_type": "code",
     "checksum": "95b9b6f78128246e96c3686b8daf93b6",
     "grade": false,
     "grade_id": "cell-24df815518377cec",
     "locked": true,
     "schema_version": 3,
     "solution": false,
     "task": false
    }
   },
   "outputs": [
    {
     "data": {
      "image/png": "[encoded data removed]",
      "text/plain": [
       "<Figure size 1080x720 with 1 Axes>"
      ]
     },
     "metadata": {
      "needs_background": "light"
     },
     "output_type": "display_data"
    }
   ],
   "source": [
    "if perform_computation:\n",
    "    class_names_list = sorted(list(class_to_idx.keys()))\n",
    "    fig, ax = plt.subplots(figsize=(9,6.), dpi=120)\n",
    "    x_components = VT[:,0]\n",
    "    y_components = VT[:,1]\n",
    "    sns.regplot(x=x_components, y=y_components, fit_reg=False, marker=\"*\", color=\"Blue\", ax=ax)\n",
    "    for class_idx in range(VT.shape[0]):\n",
    "        num_letters = len(class_names_list[class_idx])\n",
    "        ax.text(x_components[class_idx]-num_letters*8, y_components[class_idx]+10, \n",
    "                class_names_list[class_idx].capitalize(), \n",
    "                horizontalalignment='left', size='medium', color='black', weight='semibold')\n",
    "    ax.set_xlabel('Reconstructed Dimension 1')\n",
    "    ax.set_ylabel('Reconstructed Dimension 2')\n",
    "    _ = ax.set_title('Generalized PCoA on CIFAR-10 Images')"
   ]
  },
  {
   "cell_type": "code",
   "execution_count": null,
   "metadata": {},
   "outputs": [],
   "source": []
  }
 ],
 "metadata": {
  "illinois_payload": {
   "b64z": "",
   "nb_path": "release/PCA/PCA.ipynb"
  },
  "kernelspec": {
   "display_name": "Python 3 (Threads: 2)",
   "language": "python",
   "name": "python3"
  },
  "language_info": {
   "codemirror_mode": {
    "name": "ipython",
    "version": 3
   },
   "file_extension": ".py",
   "mimetype": "text/x-python",
   "name": "python",
   "nbconvert_exporter": "python",
   "pygments_lexer": "ipython3",
   "version": "3.8.12"
  }
 },
 "nbformat": 4,
 "nbformat_minor": 4
}
